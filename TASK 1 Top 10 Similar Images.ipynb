{
 "cells": [
  {
   "cell_type": "code",
   "execution_count": 1,
   "metadata": {},
   "outputs": [],
   "source": [
    "import pandas as pd\n",
    "import numpy as np\n",
    "import matplotlib.pyplot as plt\n",
    "import seaborn as sns"
   ]
  },
  {
   "cell_type": "code",
   "execution_count": 2,
   "metadata": {},
   "outputs": [],
   "source": [
    "from tensorflow.keras import Sequential\n",
    "from tensorflow.keras.models import Model\n",
    "from tensorflow.keras.layers import Concatenate,Conv2D, MaxPool2D, Dense, Dropout, Flatten, BatchNormalization, Input\n",
    "from tensorflow.keras.preprocessing.image import ImageDataGenerator,array_to_img, img_to_array, load_img\n",
    "import glob\n",
    "from tensorflow.keras.losses import categorical_crossentropy"
   ]
  },
  {
   "cell_type": "code",
   "execution_count": 3,
   "metadata": {},
   "outputs": [],
   "source": [
    "df=pd.read_csv(r'C:\\Users\\Kartikay\\Desktop\\DS Work\\Lenskart\\Lenskart_products.csv')"
   ]
  },
  {
   "cell_type": "code",
   "execution_count": 4,
   "metadata": {},
   "outputs": [
    {
     "data": {
      "text/html": [
       "<div>\n",
       "<style scoped>\n",
       "    .dataframe tbody tr th:only-of-type {\n",
       "        vertical-align: middle;\n",
       "    }\n",
       "\n",
       "    .dataframe tbody tr th {\n",
       "        vertical-align: top;\n",
       "    }\n",
       "\n",
       "    .dataframe thead th {\n",
       "        text-align: right;\n",
       "    }\n",
       "</style>\n",
       "<table border=\"1\" class=\"dataframe\">\n",
       "  <thead>\n",
       "    <tr style=\"text-align: right;\">\n",
       "      <th></th>\n",
       "      <th>Unnamed: 0</th>\n",
       "      <th>product_name</th>\n",
       "      <th>product_id</th>\n",
       "      <th>parent_category</th>\n",
       "      <th>Image_Front</th>\n",
       "      <th>frame_shape</th>\n",
       "    </tr>\n",
       "  </thead>\n",
       "  <tbody>\n",
       "    <tr>\n",
       "      <th>0</th>\n",
       "      <td>0</td>\n",
       "      <td>Vintage Persona C4</td>\n",
       "      <td>7641</td>\n",
       "      <td>eyeframe</td>\n",
       "      <td>http://d3b4di70nev5h5.cloudfront.net/media/cat...</td>\n",
       "      <td>Rectangle</td>\n",
       "    </tr>\n",
       "    <tr>\n",
       "      <th>1</th>\n",
       "      <td>1</td>\n",
       "      <td>Vintage Crazy-X C2 Red</td>\n",
       "      <td>7643</td>\n",
       "      <td>eyeframe</td>\n",
       "      <td>http://d3b4di70nev5h5.cloudfront.net/media/cat...</td>\n",
       "      <td>Rectangle</td>\n",
       "    </tr>\n",
       "    <tr>\n",
       "      <th>2</th>\n",
       "      <td>2</td>\n",
       "      <td>Jialedi Eyewear 1086 C8 Blue</td>\n",
       "      <td>8254</td>\n",
       "      <td>eyeframe</td>\n",
       "      <td>http://d3b4di70nev5h5.cloudfront.net/media/cat...</td>\n",
       "      <td>Rectangle</td>\n",
       "    </tr>\n",
       "    <tr>\n",
       "      <th>3</th>\n",
       "      <td>3</td>\n",
       "      <td>Jialedi Eyewear 1086 C6 Red</td>\n",
       "      <td>8255</td>\n",
       "      <td>eyeframe</td>\n",
       "      <td>http://d3b4di70nev5h5.cloudfront.net/media/cat...</td>\n",
       "      <td>Rectangle</td>\n",
       "    </tr>\n",
       "    <tr>\n",
       "      <th>4</th>\n",
       "      <td>4</td>\n",
       "      <td>Jialedi Eyewear 1086 C4 Tortoise Transperent</td>\n",
       "      <td>8256</td>\n",
       "      <td>eyeframe</td>\n",
       "      <td>http://d3b4di70nev5h5.cloudfront.net/media/cat...</td>\n",
       "      <td>Rectangle</td>\n",
       "    </tr>\n",
       "  </tbody>\n",
       "</table>\n",
       "</div>"
      ],
      "text/plain": [
       "   Unnamed: 0                                  product_name  product_id  \\\n",
       "0           0                            Vintage Persona C4        7641   \n",
       "1           1                        Vintage Crazy-X C2 Red        7643   \n",
       "2           2                  Jialedi Eyewear 1086 C8 Blue        8254   \n",
       "3           3                   Jialedi Eyewear 1086 C6 Red        8255   \n",
       "4           4  Jialedi Eyewear 1086 C4 Tortoise Transperent        8256   \n",
       "\n",
       "  parent_category                                        Image_Front  \\\n",
       "0        eyeframe  http://d3b4di70nev5h5.cloudfront.net/media/cat...   \n",
       "1        eyeframe  http://d3b4di70nev5h5.cloudfront.net/media/cat...   \n",
       "2        eyeframe  http://d3b4di70nev5h5.cloudfront.net/media/cat...   \n",
       "3        eyeframe  http://d3b4di70nev5h5.cloudfront.net/media/cat...   \n",
       "4        eyeframe  http://d3b4di70nev5h5.cloudfront.net/media/cat...   \n",
       "\n",
       "  frame_shape  \n",
       "0   Rectangle  \n",
       "1   Rectangle  \n",
       "2   Rectangle  \n",
       "3   Rectangle  \n",
       "4   Rectangle  "
      ]
     },
     "execution_count": 4,
     "metadata": {},
     "output_type": "execute_result"
    }
   ],
   "source": [
    "df.head()"
   ]
  },
  {
   "cell_type": "code",
   "execution_count": 5,
   "metadata": {},
   "outputs": [
    {
     "data": {
      "text/html": [
       "<div>\n",
       "<style scoped>\n",
       "    .dataframe tbody tr th:only-of-type {\n",
       "        vertical-align: middle;\n",
       "    }\n",
       "\n",
       "    .dataframe tbody tr th {\n",
       "        vertical-align: top;\n",
       "    }\n",
       "\n",
       "    .dataframe thead th {\n",
       "        text-align: right;\n",
       "    }\n",
       "</style>\n",
       "<table border=\"1\" class=\"dataframe\">\n",
       "  <thead>\n",
       "    <tr style=\"text-align: right;\">\n",
       "      <th></th>\n",
       "      <th>Unnamed: 0</th>\n",
       "      <th>product_name</th>\n",
       "      <th>product_id</th>\n",
       "      <th>parent_category</th>\n",
       "      <th>Image_Front</th>\n",
       "      <th>frame_shape</th>\n",
       "    </tr>\n",
       "  </thead>\n",
       "  <tbody>\n",
       "    <tr>\n",
       "      <th>5565</th>\n",
       "      <td>5565</td>\n",
       "      <td>Black White Full Rim Rectangle Vincent Chase O...</td>\n",
       "      <td>99444</td>\n",
       "      <td>Non-Power Reading</td>\n",
       "      <td>http://d3b4di70nev5h5.cloudfront.net/media/cat...</td>\n",
       "      <td>Rectangle</td>\n",
       "    </tr>\n",
       "    <tr>\n",
       "      <th>5566</th>\n",
       "      <td>5566</td>\n",
       "      <td>Maroon Full Rim Rectangle Vincent Chase Online...</td>\n",
       "      <td>99445</td>\n",
       "      <td>Non-Power Reading</td>\n",
       "      <td>http://d3b4di70nev5h5.cloudfront.net/media/cat...</td>\n",
       "      <td>Rectangle</td>\n",
       "    </tr>\n",
       "    <tr>\n",
       "      <th>5567</th>\n",
       "      <td>5567</td>\n",
       "      <td>Lenskart TOI Special: Black Blue Full Rim Rect...</td>\n",
       "      <td>99446</td>\n",
       "      <td>Non-Power Reading</td>\n",
       "      <td>http://d3b4di70nev5h5.cloudfront.net/media/cat...</td>\n",
       "      <td>Rectangle</td>\n",
       "    </tr>\n",
       "    <tr>\n",
       "      <th>5568</th>\n",
       "      <td>5568</td>\n",
       "      <td>Tortoise Full Rim Rectangle Vincent Chase Onli...</td>\n",
       "      <td>99447</td>\n",
       "      <td>Non-Power Reading</td>\n",
       "      <td>http://d3b4di70nev5h5.cloudfront.net/media/cat...</td>\n",
       "      <td>Rectangle</td>\n",
       "    </tr>\n",
       "    <tr>\n",
       "      <th>5569</th>\n",
       "      <td>5569</td>\n",
       "      <td>Black Red Full Rim Rectangle Vincent Chase Onl...</td>\n",
       "      <td>99448</td>\n",
       "      <td>Non-Power Reading</td>\n",
       "      <td>http://d3b4di70nev5h5.cloudfront.net/media/cat...</td>\n",
       "      <td>Rectangle</td>\n",
       "    </tr>\n",
       "  </tbody>\n",
       "</table>\n",
       "</div>"
      ],
      "text/plain": [
       "      Unnamed: 0                                       product_name  \\\n",
       "5565        5565  Black White Full Rim Rectangle Vincent Chase O...   \n",
       "5566        5566  Maroon Full Rim Rectangle Vincent Chase Online...   \n",
       "5567        5567  Lenskart TOI Special: Black Blue Full Rim Rect...   \n",
       "5568        5568  Tortoise Full Rim Rectangle Vincent Chase Onli...   \n",
       "5569        5569  Black Red Full Rim Rectangle Vincent Chase Onl...   \n",
       "\n",
       "      product_id    parent_category  \\\n",
       "5565       99444  Non-Power Reading   \n",
       "5566       99445  Non-Power Reading   \n",
       "5567       99446  Non-Power Reading   \n",
       "5568       99447  Non-Power Reading   \n",
       "5569       99448  Non-Power Reading   \n",
       "\n",
       "                                            Image_Front frame_shape  \n",
       "5565  http://d3b4di70nev5h5.cloudfront.net/media/cat...   Rectangle  \n",
       "5566  http://d3b4di70nev5h5.cloudfront.net/media/cat...   Rectangle  \n",
       "5567  http://d3b4di70nev5h5.cloudfront.net/media/cat...   Rectangle  \n",
       "5568  http://d3b4di70nev5h5.cloudfront.net/media/cat...   Rectangle  \n",
       "5569  http://d3b4di70nev5h5.cloudfront.net/media/cat...   Rectangle  "
      ]
     },
     "execution_count": 5,
     "metadata": {},
     "output_type": "execute_result"
    }
   ],
   "source": [
    "df.tail()"
   ]
  },
  {
   "cell_type": "code",
   "execution_count": 6,
   "metadata": {},
   "outputs": [],
   "source": [
    "df.drop('Unnamed: 0',axis=1,inplace=True)"
   ]
  },
  {
   "cell_type": "code",
   "execution_count": 7,
   "metadata": {},
   "outputs": [
    {
     "data": {
      "text/plain": [
       "Index(['product_name', 'product_id', 'parent_category', 'Image_Front',\n",
       "       'frame_shape'],\n",
       "      dtype='object')"
      ]
     },
     "execution_count": 7,
     "metadata": {},
     "output_type": "execute_result"
    }
   ],
   "source": [
    "df.columns"
   ]
  },
  {
   "cell_type": "code",
   "execution_count": 9,
   "metadata": {},
   "outputs": [
    {
     "data": {
      "text/plain": [
       "(5570, 5)"
      ]
     },
     "execution_count": 9,
     "metadata": {},
     "output_type": "execute_result"
    }
   ],
   "source": [
    "df.shape"
   ]
  },
  {
   "cell_type": "code",
   "execution_count": 8,
   "metadata": {},
   "outputs": [
    {
     "data": {
      "text/plain": [
       "product_name       0\n",
       "product_id         0\n",
       "parent_category    0\n",
       "Image_Front        0\n",
       "frame_shape        0\n",
       "dtype: int64"
      ]
     },
     "execution_count": 8,
     "metadata": {},
     "output_type": "execute_result"
    }
   ],
   "source": [
    "df.isnull().sum()\n",
    "    "
   ]
  },
  {
   "cell_type": "code",
   "execution_count": 9,
   "metadata": {},
   "outputs": [
    {
     "data": {
      "text/plain": [
       "product_name       object\n",
       "product_id          int64\n",
       "parent_category    object\n",
       "Image_Front        object\n",
       "frame_shape        object\n",
       "dtype: object"
      ]
     },
     "execution_count": 9,
     "metadata": {},
     "output_type": "execute_result"
    }
   ],
   "source": [
    "df.dtypes"
   ]
  },
  {
   "cell_type": "code",
   "execution_count": 10,
   "metadata": {
    "scrolled": true
   },
   "outputs": [
    {
     "data": {
      "text/html": [
       "<style  type=\"text/css\" >\n",
       "    #T_1bfbf2e4_af13_11eb_9d0c_00090faa0001 th {\n",
       "          text-align: left;\n",
       "    }#T_1bfbf2e4_af13_11eb_9d0c_00090faa0001row0_col0,#T_1bfbf2e4_af13_11eb_9d0c_00090faa0001row0_col1,#T_1bfbf2e4_af13_11eb_9d0c_00090faa0001row0_col2,#T_1bfbf2e4_af13_11eb_9d0c_00090faa0001row0_col3,#T_1bfbf2e4_af13_11eb_9d0c_00090faa0001row0_col4,#T_1bfbf2e4_af13_11eb_9d0c_00090faa0001row1_col0,#T_1bfbf2e4_af13_11eb_9d0c_00090faa0001row1_col1,#T_1bfbf2e4_af13_11eb_9d0c_00090faa0001row1_col2,#T_1bfbf2e4_af13_11eb_9d0c_00090faa0001row1_col3,#T_1bfbf2e4_af13_11eb_9d0c_00090faa0001row1_col4,#T_1bfbf2e4_af13_11eb_9d0c_00090faa0001row2_col0,#T_1bfbf2e4_af13_11eb_9d0c_00090faa0001row2_col1,#T_1bfbf2e4_af13_11eb_9d0c_00090faa0001row2_col2,#T_1bfbf2e4_af13_11eb_9d0c_00090faa0001row2_col3,#T_1bfbf2e4_af13_11eb_9d0c_00090faa0001row2_col4,#T_1bfbf2e4_af13_11eb_9d0c_00090faa0001row3_col0,#T_1bfbf2e4_af13_11eb_9d0c_00090faa0001row3_col1,#T_1bfbf2e4_af13_11eb_9d0c_00090faa0001row3_col2,#T_1bfbf2e4_af13_11eb_9d0c_00090faa0001row3_col3,#T_1bfbf2e4_af13_11eb_9d0c_00090faa0001row3_col4,#T_1bfbf2e4_af13_11eb_9d0c_00090faa0001row4_col0,#T_1bfbf2e4_af13_11eb_9d0c_00090faa0001row4_col1,#T_1bfbf2e4_af13_11eb_9d0c_00090faa0001row4_col2,#T_1bfbf2e4_af13_11eb_9d0c_00090faa0001row4_col3,#T_1bfbf2e4_af13_11eb_9d0c_00090faa0001row4_col4{\n",
       "            text-align:  left;\n",
       "        }</style><table id=\"T_1bfbf2e4_af13_11eb_9d0c_00090faa0001\" ><thead>    <tr>        <th class=\"blank level0\" ></th>        <th class=\"col_heading level0 col0\" >product_name</th>        <th class=\"col_heading level0 col1\" >product_id</th>        <th class=\"col_heading level0 col2\" >parent_category</th>        <th class=\"col_heading level0 col3\" >Image_Front</th>        <th class=\"col_heading level0 col4\" >frame_shape</th>    </tr></thead><tbody>\n",
       "                <tr>\n",
       "                        <th id=\"T_1bfbf2e4_af13_11eb_9d0c_00090faa0001level0_row0\" class=\"row_heading level0 row0\" >0</th>\n",
       "                        <td id=\"T_1bfbf2e4_af13_11eb_9d0c_00090faa0001row0_col0\" class=\"data row0 col0\" >Vintage Persona C4</td>\n",
       "                        <td id=\"T_1bfbf2e4_af13_11eb_9d0c_00090faa0001row0_col1\" class=\"data row0 col1\" >7641</td>\n",
       "                        <td id=\"T_1bfbf2e4_af13_11eb_9d0c_00090faa0001row0_col2\" class=\"data row0 col2\" >eyeframe</td>\n",
       "                        <td id=\"T_1bfbf2e4_af13_11eb_9d0c_00090faa0001row0_col3\" class=\"data row0 col3\" >http://d3b4di70nev5h5.cloudfront.net/media/catalog/product//v/i/vintage-persona-c4-52-15-135_1_.jpg</td>\n",
       "                        <td id=\"T_1bfbf2e4_af13_11eb_9d0c_00090faa0001row0_col4\" class=\"data row0 col4\" >Rectangle</td>\n",
       "            </tr>\n",
       "            <tr>\n",
       "                        <th id=\"T_1bfbf2e4_af13_11eb_9d0c_00090faa0001level0_row1\" class=\"row_heading level0 row1\" >1</th>\n",
       "                        <td id=\"T_1bfbf2e4_af13_11eb_9d0c_00090faa0001row1_col0\" class=\"data row1 col0\" >Vintage Crazy-X C2 Red</td>\n",
       "                        <td id=\"T_1bfbf2e4_af13_11eb_9d0c_00090faa0001row1_col1\" class=\"data row1 col1\" >7643</td>\n",
       "                        <td id=\"T_1bfbf2e4_af13_11eb_9d0c_00090faa0001row1_col2\" class=\"data row1 col2\" >eyeframe</td>\n",
       "                        <td id=\"T_1bfbf2e4_af13_11eb_9d0c_00090faa0001row1_col3\" class=\"data row1 col3\" >http://d3b4di70nev5h5.cloudfront.net/media/catalog/product//v/i/vintage-crazy-x-c2-51-15-130_3__1.jpg</td>\n",
       "                        <td id=\"T_1bfbf2e4_af13_11eb_9d0c_00090faa0001row1_col4\" class=\"data row1 col4\" >Rectangle</td>\n",
       "            </tr>\n",
       "            <tr>\n",
       "                        <th id=\"T_1bfbf2e4_af13_11eb_9d0c_00090faa0001level0_row2\" class=\"row_heading level0 row2\" >2</th>\n",
       "                        <td id=\"T_1bfbf2e4_af13_11eb_9d0c_00090faa0001row2_col0\" class=\"data row2 col0\" >Jialedi Eyewear 1086 C8 Blue</td>\n",
       "                        <td id=\"T_1bfbf2e4_af13_11eb_9d0c_00090faa0001row2_col1\" class=\"data row2 col1\" >8254</td>\n",
       "                        <td id=\"T_1bfbf2e4_af13_11eb_9d0c_00090faa0001row2_col2\" class=\"data row2 col2\" >eyeframe</td>\n",
       "                        <td id=\"T_1bfbf2e4_af13_11eb_9d0c_00090faa0001row2_col3\" class=\"data row2 col3\" >http://d3b4di70nev5h5.cloudfront.net/media/catalog/product//D/S/DSC_0001_6.JPG</td>\n",
       "                        <td id=\"T_1bfbf2e4_af13_11eb_9d0c_00090faa0001row2_col4\" class=\"data row2 col4\" >Rectangle</td>\n",
       "            </tr>\n",
       "            <tr>\n",
       "                        <th id=\"T_1bfbf2e4_af13_11eb_9d0c_00090faa0001level0_row3\" class=\"row_heading level0 row3\" >3</th>\n",
       "                        <td id=\"T_1bfbf2e4_af13_11eb_9d0c_00090faa0001row3_col0\" class=\"data row3 col0\" >Jialedi Eyewear 1086 C6 Red</td>\n",
       "                        <td id=\"T_1bfbf2e4_af13_11eb_9d0c_00090faa0001row3_col1\" class=\"data row3 col1\" >8255</td>\n",
       "                        <td id=\"T_1bfbf2e4_af13_11eb_9d0c_00090faa0001row3_col2\" class=\"data row3 col2\" >eyeframe</td>\n",
       "                        <td id=\"T_1bfbf2e4_af13_11eb_9d0c_00090faa0001row3_col3\" class=\"data row3 col3\" >http://d3b4di70nev5h5.cloudfront.net/media/catalog/product//D/S/DSC_0010_4.JPG</td>\n",
       "                        <td id=\"T_1bfbf2e4_af13_11eb_9d0c_00090faa0001row3_col4\" class=\"data row3 col4\" >Rectangle</td>\n",
       "            </tr>\n",
       "            <tr>\n",
       "                        <th id=\"T_1bfbf2e4_af13_11eb_9d0c_00090faa0001level0_row4\" class=\"row_heading level0 row4\" >4</th>\n",
       "                        <td id=\"T_1bfbf2e4_af13_11eb_9d0c_00090faa0001row4_col0\" class=\"data row4 col0\" >Jialedi Eyewear 1086 C4 Tortoise Transperent</td>\n",
       "                        <td id=\"T_1bfbf2e4_af13_11eb_9d0c_00090faa0001row4_col1\" class=\"data row4 col1\" >8256</td>\n",
       "                        <td id=\"T_1bfbf2e4_af13_11eb_9d0c_00090faa0001row4_col2\" class=\"data row4 col2\" >eyeframe</td>\n",
       "                        <td id=\"T_1bfbf2e4_af13_11eb_9d0c_00090faa0001row4_col3\" class=\"data row4 col3\" >http://d3b4di70nev5h5.cloudfront.net/media/catalog/product//D/S/DSC_0017_3.JPG</td>\n",
       "                        <td id=\"T_1bfbf2e4_af13_11eb_9d0c_00090faa0001row4_col4\" class=\"data row4 col4\" >Rectangle</td>\n",
       "            </tr>\n",
       "    </tbody></table>"
      ],
      "text/plain": [
       "<pandas.io.formats.style.Styler at 0x1b76e74d288>"
      ]
     },
     "execution_count": 10,
     "metadata": {},
     "output_type": "execute_result"
    }
   ],
   "source": [
    "#df.style.set_properties(**{'text-align': 'left'})\n",
    "df.head().style.set_properties(**{'text-align': 'left'}).set_table_styles([ dict(selector='th', props=[('text-align', 'left')] ) ])"
   ]
  },
  {
   "cell_type": "code",
   "execution_count": 11,
   "metadata": {},
   "outputs": [
    {
     "data": {
      "text/plain": [
       "Rectangle    3395\n",
       "Aviator       986\n",
       "Wayfarer      723\n",
       "Oval          466\n",
       "Name: frame_shape, dtype: int64"
      ]
     },
     "execution_count": 11,
     "metadata": {},
     "output_type": "execute_result"
    }
   ],
   "source": [
    "y=df['frame_shape'].value_counts()\n",
    "y"
   ]
  },
  {
   "cell_type": "code",
   "execution_count": 12,
   "metadata": {},
   "outputs": [
    {
     "data": {
      "text/plain": [
       "['Solarize_Light2',\n",
       " '_classic_test_patch',\n",
       " 'bmh',\n",
       " 'classic',\n",
       " 'dark_background',\n",
       " 'fast',\n",
       " 'fivethirtyeight',\n",
       " 'ggplot',\n",
       " 'grayscale',\n",
       " 'seaborn',\n",
       " 'seaborn-bright',\n",
       " 'seaborn-colorblind',\n",
       " 'seaborn-dark',\n",
       " 'seaborn-dark-palette',\n",
       " 'seaborn-darkgrid',\n",
       " 'seaborn-deep',\n",
       " 'seaborn-muted',\n",
       " 'seaborn-notebook',\n",
       " 'seaborn-paper',\n",
       " 'seaborn-pastel',\n",
       " 'seaborn-poster',\n",
       " 'seaborn-talk',\n",
       " 'seaborn-ticks',\n",
       " 'seaborn-white',\n",
       " 'seaborn-whitegrid',\n",
       " 'tableau-colorblind10']"
      ]
     },
     "execution_count": 12,
     "metadata": {},
     "output_type": "execute_result"
    }
   ],
   "source": [
    "plt.style.available"
   ]
  },
  {
   "cell_type": "code",
   "execution_count": 13,
   "metadata": {},
   "outputs": [],
   "source": [
    "plt.style.use('tableau-colorblind10')"
   ]
  },
  {
   "cell_type": "code",
   "execution_count": 14,
   "metadata": {},
   "outputs": [
    {
     "data": {
      "image/png": "[encoded data removed]",
      "text/plain": [
       "<Figure size 720x432 with 1 Axes>"
      ]
     },
     "metadata": {
      "needs_background": "light"
     },
     "output_type": "display_data"
    }
   ],
   "source": [
    "df.groupby(['parent_category','frame_shape'])['frame_shape'].count().unstack().plot(kind='bar', stacked=True, figsize=(10,6))\n",
    "plt.show()"
   ]
  },
  {
   "cell_type": "code",
   "execution_count": 15,
   "metadata": {},
   "outputs": [
    {
     "data": {
      "text/plain": [
       "<AxesSubplot:xlabel='frame_shape'>"
      ]
     },
     "execution_count": 15,
     "metadata": {},
     "output_type": "execute_result"
    },
    {
     "data": {
      "image/png": "[encoded data removed]",
      "text/plain": [
       "<Figure size 720x504 with 1 Axes>"
      ]
     },
     "metadata": {
      "needs_background": "light"
     },
     "output_type": "display_data"
    }
   ],
   "source": [
    "df.groupby(['frame_shape','parent_category'])['parent_category'].count().unstack().plot(kind='bar', stacked=True, figsize=(10,7))"
   ]
  },
  {
   "cell_type": "code",
   "execution_count": 16,
   "metadata": {},
   "outputs": [
    {
     "data": {
      "text/plain": [
       "Text(0, 0.5, 'Numbers')"
      ]
     },
     "execution_count": 16,
     "metadata": {},
     "output_type": "execute_result"
    },
    {
     "data": {
      "image/png": "[encoded data removed]",
      "text/plain": [
       "<Figure size 1080x432 with 1 Axes>"
      ]
     },
     "metadata": {
      "needs_background": "light"
     },
     "output_type": "display_data"
    }
   ],
   "source": [
    "plt.figure(figsize=[15,6])\n",
    "sns.barplot(y.index, y.values)\n",
    "plt.title('Frame Shapes')\n",
    "plt.xlabel(\"Class\")\n",
    "plt.ylabel(\"Numbers\")"
   ]
  },
  {
   "cell_type": "code",
   "execution_count": 17,
   "metadata": {},
   "outputs": [
    {
     "data": {
      "text/plain": [
       "eyeframe             2183\n",
       "sunglasses           1750\n",
       "Non-Power Reading    1637\n",
       "Name: parent_category, dtype: int64"
      ]
     },
     "execution_count": 17,
     "metadata": {},
     "output_type": "execute_result"
    }
   ],
   "source": [
    "z=df['parent_category'].value_counts()\n",
    "z"
   ]
  },
  {
   "cell_type": "code",
   "execution_count": 18,
   "metadata": {},
   "outputs": [
    {
     "data": {
      "text/plain": [
       "product_name       0\n",
       "product_id         0\n",
       "parent_category    0\n",
       "Image_Front        0\n",
       "frame_shape        0\n",
       "dtype: int64"
      ]
     },
     "execution_count": 18,
     "metadata": {},
     "output_type": "execute_result"
    }
   ],
   "source": [
    "df.isnull().sum()"
   ]
  },
  {
   "cell_type": "code",
   "execution_count": 17,
   "metadata": {},
   "outputs": [
    {
     "data": {
      "text/plain": [
       "Text(0, 0.5, 'Numbers')"
      ]
     },
     "execution_count": 17,
     "metadata": {},
     "output_type": "execute_result"
    },
    {
     "data": {
      "image/png": "[encoded data removed]",
      "text/plain": [
       "<Figure size 1080x432 with 1 Axes>"
      ]
     },
     "metadata": {
      "needs_background": "light"
     },
     "output_type": "display_data"
    }
   ],
   "source": [
    "plt.figure(figsize=[15,6])\n",
    "sns.barplot(z.index, z.values)\n",
    "plt.title('Parent Category')\n",
    "plt.xlabel(\"Class\")\n",
    "plt.ylabel(\"Numbers\")"
   ]
  },
  {
   "cell_type": "code",
   "execution_count": 19,
   "metadata": {},
   "outputs": [
    {
     "data": {
      "text/html": [
       "<div>\n",
       "<style scoped>\n",
       "    .dataframe tbody tr th:only-of-type {\n",
       "        vertical-align: middle;\n",
       "    }\n",
       "\n",
       "    .dataframe tbody tr th {\n",
       "        vertical-align: top;\n",
       "    }\n",
       "\n",
       "    .dataframe thead th {\n",
       "        text-align: right;\n",
       "    }\n",
       "</style>\n",
       "<table border=\"1\" class=\"dataframe\">\n",
       "  <thead>\n",
       "    <tr style=\"text-align: right;\">\n",
       "      <th></th>\n",
       "      <th>product_name</th>\n",
       "      <th>product_id</th>\n",
       "      <th>parent_category</th>\n",
       "      <th>Image_Front</th>\n",
       "      <th>frame_shape</th>\n",
       "    </tr>\n",
       "  </thead>\n",
       "  <tbody>\n",
       "    <tr>\n",
       "      <th>0</th>\n",
       "      <td>Vintage Persona C4</td>\n",
       "      <td>7641</td>\n",
       "      <td>eyeframe</td>\n",
       "      <td>http://d3b4di70nev5h5.cloudfront.net/media/cat...</td>\n",
       "      <td>Rectangle</td>\n",
       "    </tr>\n",
       "    <tr>\n",
       "      <th>1</th>\n",
       "      <td>Vintage Crazy-X C2 Red</td>\n",
       "      <td>7643</td>\n",
       "      <td>eyeframe</td>\n",
       "      <td>http://d3b4di70nev5h5.cloudfront.net/media/cat...</td>\n",
       "      <td>Rectangle</td>\n",
       "    </tr>\n",
       "    <tr>\n",
       "      <th>2</th>\n",
       "      <td>Jialedi Eyewear 1086 C8 Blue</td>\n",
       "      <td>8254</td>\n",
       "      <td>eyeframe</td>\n",
       "      <td>http://d3b4di70nev5h5.cloudfront.net/media/cat...</td>\n",
       "      <td>Rectangle</td>\n",
       "    </tr>\n",
       "    <tr>\n",
       "      <th>3</th>\n",
       "      <td>Jialedi Eyewear 1086 C6 Red</td>\n",
       "      <td>8255</td>\n",
       "      <td>eyeframe</td>\n",
       "      <td>http://d3b4di70nev5h5.cloudfront.net/media/cat...</td>\n",
       "      <td>Rectangle</td>\n",
       "    </tr>\n",
       "    <tr>\n",
       "      <th>4</th>\n",
       "      <td>Jialedi Eyewear 1086 C4 Tortoise Transperent</td>\n",
       "      <td>8256</td>\n",
       "      <td>eyeframe</td>\n",
       "      <td>http://d3b4di70nev5h5.cloudfront.net/media/cat...</td>\n",
       "      <td>Rectangle</td>\n",
       "    </tr>\n",
       "  </tbody>\n",
       "</table>\n",
       "</div>"
      ],
      "text/plain": [
       "                                   product_name  product_id parent_category  \\\n",
       "0                            Vintage Persona C4        7641        eyeframe   \n",
       "1                        Vintage Crazy-X C2 Red        7643        eyeframe   \n",
       "2                  Jialedi Eyewear 1086 C8 Blue        8254        eyeframe   \n",
       "3                   Jialedi Eyewear 1086 C6 Red        8255        eyeframe   \n",
       "4  Jialedi Eyewear 1086 C4 Tortoise Transperent        8256        eyeframe   \n",
       "\n",
       "                                         Image_Front frame_shape  \n",
       "0  http://d3b4di70nev5h5.cloudfront.net/media/cat...   Rectangle  \n",
       "1  http://d3b4di70nev5h5.cloudfront.net/media/cat...   Rectangle  \n",
       "2  http://d3b4di70nev5h5.cloudfront.net/media/cat...   Rectangle  \n",
       "3  http://d3b4di70nev5h5.cloudfront.net/media/cat...   Rectangle  \n",
       "4  http://d3b4di70nev5h5.cloudfront.net/media/cat...   Rectangle  "
      ]
     },
     "execution_count": 19,
     "metadata": {},
     "output_type": "execute_result"
    }
   ],
   "source": [
    "df.head()"
   ]
  },
  {
   "cell_type": "code",
   "execution_count": 20,
   "metadata": {},
   "outputs": [
    {
     "data": {
      "text/html": [
       "<div>\n",
       "<style scoped>\n",
       "    .dataframe tbody tr th:only-of-type {\n",
       "        vertical-align: middle;\n",
       "    }\n",
       "\n",
       "    .dataframe tbody tr th {\n",
       "        vertical-align: top;\n",
       "    }\n",
       "\n",
       "    .dataframe thead th {\n",
       "        text-align: right;\n",
       "    }\n",
       "</style>\n",
       "<table border=\"1\" class=\"dataframe\">\n",
       "  <thead>\n",
       "    <tr style=\"text-align: right;\">\n",
       "      <th></th>\n",
       "      <th>product_name</th>\n",
       "      <th>product_id</th>\n",
       "      <th>parent_category</th>\n",
       "      <th>Image_Front</th>\n",
       "      <th>frame_shape</th>\n",
       "    </tr>\n",
       "  </thead>\n",
       "  <tbody>\n",
       "    <tr>\n",
       "      <th>5565</th>\n",
       "      <td>Black White Full Rim Rectangle Vincent Chase O...</td>\n",
       "      <td>99444</td>\n",
       "      <td>Non-Power Reading</td>\n",
       "      <td>http://d3b4di70nev5h5.cloudfront.net/media/cat...</td>\n",
       "      <td>Rectangle</td>\n",
       "    </tr>\n",
       "    <tr>\n",
       "      <th>5566</th>\n",
       "      <td>Maroon Full Rim Rectangle Vincent Chase Online...</td>\n",
       "      <td>99445</td>\n",
       "      <td>Non-Power Reading</td>\n",
       "      <td>http://d3b4di70nev5h5.cloudfront.net/media/cat...</td>\n",
       "      <td>Rectangle</td>\n",
       "    </tr>\n",
       "    <tr>\n",
       "      <th>5567</th>\n",
       "      <td>Lenskart TOI Special: Black Blue Full Rim Rect...</td>\n",
       "      <td>99446</td>\n",
       "      <td>Non-Power Reading</td>\n",
       "      <td>http://d3b4di70nev5h5.cloudfront.net/media/cat...</td>\n",
       "      <td>Rectangle</td>\n",
       "    </tr>\n",
       "    <tr>\n",
       "      <th>5568</th>\n",
       "      <td>Tortoise Full Rim Rectangle Vincent Chase Onli...</td>\n",
       "      <td>99447</td>\n",
       "      <td>Non-Power Reading</td>\n",
       "      <td>http://d3b4di70nev5h5.cloudfront.net/media/cat...</td>\n",
       "      <td>Rectangle</td>\n",
       "    </tr>\n",
       "    <tr>\n",
       "      <th>5569</th>\n",
       "      <td>Black Red Full Rim Rectangle Vincent Chase Onl...</td>\n",
       "      <td>99448</td>\n",
       "      <td>Non-Power Reading</td>\n",
       "      <td>http://d3b4di70nev5h5.cloudfront.net/media/cat...</td>\n",
       "      <td>Rectangle</td>\n",
       "    </tr>\n",
       "  </tbody>\n",
       "</table>\n",
       "</div>"
      ],
      "text/plain": [
       "                                           product_name  product_id  \\\n",
       "5565  Black White Full Rim Rectangle Vincent Chase O...       99444   \n",
       "5566  Maroon Full Rim Rectangle Vincent Chase Online...       99445   \n",
       "5567  Lenskart TOI Special: Black Blue Full Rim Rect...       99446   \n",
       "5568  Tortoise Full Rim Rectangle Vincent Chase Onli...       99447   \n",
       "5569  Black Red Full Rim Rectangle Vincent Chase Onl...       99448   \n",
       "\n",
       "        parent_category                                        Image_Front  \\\n",
       "5565  Non-Power Reading  http://d3b4di70nev5h5.cloudfront.net/media/cat...   \n",
       "5566  Non-Power Reading  http://d3b4di70nev5h5.cloudfront.net/media/cat...   \n",
       "5567  Non-Power Reading  http://d3b4di70nev5h5.cloudfront.net/media/cat...   \n",
       "5568  Non-Power Reading  http://d3b4di70nev5h5.cloudfront.net/media/cat...   \n",
       "5569  Non-Power Reading  http://d3b4di70nev5h5.cloudfront.net/media/cat...   \n",
       "\n",
       "     frame_shape  \n",
       "5565   Rectangle  \n",
       "5566   Rectangle  \n",
       "5567   Rectangle  \n",
       "5568   Rectangle  \n",
       "5569   Rectangle  "
      ]
     },
     "execution_count": 20,
     "metadata": {},
     "output_type": "execute_result"
    }
   ],
   "source": [
    "df.tail()"
   ]
  },
  {
   "cell_type": "code",
   "execution_count": 21,
   "metadata": {},
   "outputs": [
    {
     "data": {
      "text/html": [
       "<div>\n",
       "<style scoped>\n",
       "    .dataframe tbody tr th:only-of-type {\n",
       "        vertical-align: middle;\n",
       "    }\n",
       "\n",
       "    .dataframe tbody tr th {\n",
       "        vertical-align: top;\n",
       "    }\n",
       "\n",
       "    .dataframe thead th {\n",
       "        text-align: right;\n",
       "    }\n",
       "</style>\n",
       "<table border=\"1\" class=\"dataframe\">\n",
       "  <thead>\n",
       "    <tr style=\"text-align: right;\">\n",
       "      <th></th>\n",
       "      <th>product_id</th>\n",
       "      <th>Image_Front</th>\n",
       "    </tr>\n",
       "  </thead>\n",
       "  <tbody>\n",
       "    <tr>\n",
       "      <th>0</th>\n",
       "      <td>7641</td>\n",
       "      <td>http://d3b4di70nev5h5.cloudfront.net/media/cat...</td>\n",
       "    </tr>\n",
       "    <tr>\n",
       "      <th>1</th>\n",
       "      <td>7643</td>\n",
       "      <td>http://d3b4di70nev5h5.cloudfront.net/media/cat...</td>\n",
       "    </tr>\n",
       "    <tr>\n",
       "      <th>2</th>\n",
       "      <td>8254</td>\n",
       "      <td>http://d3b4di70nev5h5.cloudfront.net/media/cat...</td>\n",
       "    </tr>\n",
       "    <tr>\n",
       "      <th>3</th>\n",
       "      <td>8255</td>\n",
       "      <td>http://d3b4di70nev5h5.cloudfront.net/media/cat...</td>\n",
       "    </tr>\n",
       "    <tr>\n",
       "      <th>4</th>\n",
       "      <td>8256</td>\n",
       "      <td>http://d3b4di70nev5h5.cloudfront.net/media/cat...</td>\n",
       "    </tr>\n",
       "  </tbody>\n",
       "</table>\n",
       "</div>"
      ],
      "text/plain": [
       "   product_id                                        Image_Front\n",
       "0        7641  http://d3b4di70nev5h5.cloudfront.net/media/cat...\n",
       "1        7643  http://d3b4di70nev5h5.cloudfront.net/media/cat...\n",
       "2        8254  http://d3b4di70nev5h5.cloudfront.net/media/cat...\n",
       "3        8255  http://d3b4di70nev5h5.cloudfront.net/media/cat...\n",
       "4        8256  http://d3b4di70nev5h5.cloudfront.net/media/cat..."
      ]
     },
     "execution_count": 21,
     "metadata": {},
     "output_type": "execute_result"
    }
   ],
   "source": [
    "df1=df[['product_id','Image_Front']]\n",
    "df1.head()"
   ]
  },
  {
   "cell_type": "code",
   "execution_count": 22,
   "metadata": {},
   "outputs": [],
   "source": [
    "df['Image_Front'] = df['Image_Front'].replace({' ': '%20'}, regex=True)"
   ]
  },
  {
   "cell_type": "code",
   "execution_count": 23,
   "metadata": {},
   "outputs": [
    {
     "name": "stderr",
     "output_type": "stream",
     "text": [
      "C:\\Users\\Kartikay\\anaconda3\\envs\\Tensor\\lib\\site-packages\\ipykernel_launcher.py:1: SettingWithCopyWarning: \n",
      "A value is trying to be set on a copy of a slice from a DataFrame.\n",
      "Try using .loc[row_indexer,col_indexer] = value instead\n",
      "\n",
      "See the caveats in the documentation: https://pandas.pydata.org/pandas-docs/stable/user_guide/indexing.html#returning-a-view-versus-a-copy\n",
      "  \"\"\"Entry point for launching an IPython kernel.\n"
     ]
    }
   ],
   "source": [
    "df1['Image_Front'] = df1['Image_Front'].replace({' ': '%20'}, regex=True)"
   ]
  },
  {
   "cell_type": "code",
   "execution_count": 24,
   "metadata": {},
   "outputs": [
    {
     "data": {
      "text/plain": [
       "'http://d3b4di70nev5h5.cloudfront.net/media/catalog/product//I/M/IMG_7040_4.JPG'"
      ]
     },
     "execution_count": 24,
     "metadata": {},
     "output_type": "execute_result"
    }
   ],
   "source": [
    "df['Image_Front'][2793]"
   ]
  },
  {
   "cell_type": "code",
   "execution_count": 25,
   "metadata": {},
   "outputs": [],
   "source": [
    "from PIL import Image\n",
    "from urllib import request\n",
    "from io import BytesIO\n",
    "def prepare_dataset(path):\n",
    "    try:\n",
    "        url = path\n",
    "        res = request.urlopen(url).read()\n",
    "        img = Image.open(BytesIO(res)).resize((224,224))\n",
    "        img = img_to_array(img)\n",
    "        img = img/255.0\n",
    "        #img = np.array(img)\n",
    "        img = np.expand_dims(img, axis=0)\n",
    "        return img\n",
    "    except request.HTTPError:\n",
    "        img= np.zeros((224, 224, 3))\n",
    "        #img= np.array(img)\n",
    "        img= np.expand_dims(x, axis=0)\n",
    "        return img\n",
    "#plt.imshow(Sample_Image)"
   ]
  },
  {
   "cell_type": "code",
   "execution_count": 26,
   "metadata": {
    "scrolled": false
   },
   "outputs": [
    {
     "data": {
      "text/plain": [
       "\"x_set=[]\\ny_set1=[]\\ni=3901\\nfor image in df1['Image_Front'][3901:]:\\n    x=prepare_dataset(image)\\n    if x.shape!=(1, 224, 224, 3):\\n        x=np.zeros((1,224, 224, 3))\\n    else:\\n        x=x\\n    if len(x_set) > 0:\\n        x_set= np.concatenate((x_set, x))\\n    else:\\n        x_set = x\\n    y_set1.append(df1['product_id'][i])\\n    if(i%10==0):\\n        print (i)\\n    \\n    i=i+1\\n#images_data=np.array(x_train)  \""
      ]
     },
     "execution_count": 26,
     "metadata": {},
     "output_type": "execute_result"
    }
   ],
   "source": [
    "x_set=[]\n",
    "y_set1=[]\n",
    "i=3901\n",
    "for image in df1['Image_Front'][3901:]:\n",
    "    x=prepare_dataset(image)\n",
    "    if x.shape!=(1, 224, 224, 3):\n",
    "        x=np.zeros((1,224, 224, 3))\n",
    "    else:\n",
    "        x=x\n",
    "    if len(x_set) > 0:\n",
    "        x_set= np.concatenate((x_set, x))\n",
    "    else:\n",
    "        x_set = x\n",
    "    y_set1.append(df1['product_id'][i])\n",
    "    if(i%10==0):\n",
    "        print (i)\n",
    "    \n",
    "    i=i+1\n",
    "#images_data=np.array(x_train)"
   ]
  },
  {
   "cell_type": "code",
   "execution_count": 27,
   "metadata": {},
   "outputs": [],
   "source": [
    "#np.save(r'C:\\Users\\Kartikay\\Desktop\\DS Work\\Lenskart\\image_pixels_array.npy', x_train_f)\n",
    "#np.save(r'C:\\Users\\Kartikay\\Desktop\\DS Work\\Lenskart\\product_id_array.npy', y_set)"
   ]
  },
  {
   "cell_type": "code",
   "execution_count": 28,
   "metadata": {},
   "outputs": [],
   "source": [
    "x_train_f= np.load(r'C:\\Users\\Kartikay\\Desktop\\DS Work\\Lenskart\\image_pixels_array.npy')\n",
    "y_set= np.load(r'C:\\Users\\Kartikay\\Desktop\\DS Work\\Lenskart\\product_id_array.npy')"
   ]
  },
  {
   "cell_type": "code",
   "execution_count": 29,
   "metadata": {},
   "outputs": [],
   "source": [
    "pixel_dict=dict(zip(y_set,x_train_f))"
   ]
  },
  {
   "cell_type": "code",
   "execution_count": 30,
   "metadata": {},
   "outputs": [
    {
     "data": {
      "text/plain": [
       "5570"
      ]
     },
     "execution_count": 30,
     "metadata": {},
     "output_type": "execute_result"
    }
   ],
   "source": [
    "len(y_set)"
   ]
  },
  {
   "cell_type": "code",
   "execution_count": 31,
   "metadata": {},
   "outputs": [
    {
     "data": {
      "image/png": "[encoded data removed]",
      "text/plain": [
       "<PIL.Image.Image image mode=RGB size=224x224 at 0x1B76EAB02C8>"
      ]
     },
     "execution_count": 31,
     "metadata": {},
     "output_type": "execute_result"
    }
   ],
   "source": [
    "url = df['Image_Front'][1676]\n",
    "res = request.urlopen(url).read()\n",
    "img = Image.open(BytesIO(res)).resize((224,224))\n",
    "#img_to_array(img).shape\n",
    "img"
   ]
  },
  {
   "cell_type": "code",
   "execution_count": 32,
   "metadata": {},
   "outputs": [
    {
     "data": {
      "text/plain": [
       "'http://d3b4di70nev5h5.cloudfront.net/media/catalog/product//I/M/IMG_7040_4.JPG'"
      ]
     },
     "execution_count": 32,
     "metadata": {},
     "output_type": "execute_result"
    }
   ],
   "source": [
    "df1['Image_Front'][2793]"
   ]
  },
  {
   "cell_type": "code",
   "execution_count": 33,
   "metadata": {},
   "outputs": [],
   "source": [
    "from tensorflow.keras.applications.vgg16 import VGG16\n",
    "from tensorflow.keras.applications.imagenet_utils import preprocess_input\n"
   ]
  },
  {
   "cell_type": "code",
   "execution_count": 34,
   "metadata": {},
   "outputs": [
    {
     "name": "stdout",
     "output_type": "stream",
     "text": [
      "Model: \"vgg16\"\n",
      "_________________________________________________________________\n",
      "Layer (type)                 Output Shape              Param #   \n",
      "=================================================================\n",
      "input_1 (InputLayer)         [(None, 224, 224, 3)]     0         \n",
      "_________________________________________________________________\n",
      "block1_conv1 (Conv2D)        (None, 224, 224, 64)      1792      \n",
      "_________________________________________________________________\n",
      "block1_conv2 (Conv2D)        (None, 224, 224, 64)      36928     \n",
      "_________________________________________________________________\n",
      "block1_pool (MaxPooling2D)   (None, 112, 112, 64)      0         \n",
      "_________________________________________________________________\n",
      "block2_conv1 (Conv2D)        (None, 112, 112, 128)     73856     \n",
      "_________________________________________________________________\n",
      "block2_conv2 (Conv2D)        (None, 112, 112, 128)     147584    \n",
      "_________________________________________________________________\n",
      "block2_pool (MaxPooling2D)   (None, 56, 56, 128)       0         \n",
      "_________________________________________________________________\n",
      "block3_conv1 (Conv2D)        (None, 56, 56, 256)       295168    \n",
      "_________________________________________________________________\n",
      "block3_conv2 (Conv2D)        (None, 56, 56, 256)       590080    \n",
      "_________________________________________________________________\n",
      "block3_conv3 (Conv2D)        (None, 56, 56, 256)       590080    \n",
      "_________________________________________________________________\n",
      "block3_pool (MaxPooling2D)   (None, 28, 28, 256)       0         \n",
      "_________________________________________________________________\n",
      "block4_conv1 (Conv2D)        (None, 28, 28, 512)       1180160   \n",
      "_________________________________________________________________\n",
      "block4_conv2 (Conv2D)        (None, 28, 28, 512)       2359808   \n",
      "_________________________________________________________________\n",
      "block4_conv3 (Conv2D)        (None, 28, 28, 512)       2359808   \n",
      "_________________________________________________________________\n",
      "block4_pool (MaxPooling2D)   (None, 14, 14, 512)       0         \n",
      "_________________________________________________________________\n",
      "block5_conv1 (Conv2D)        (None, 14, 14, 512)       2359808   \n",
      "_________________________________________________________________\n",
      "block5_conv2 (Conv2D)        (None, 14, 14, 512)       2359808   \n",
      "_________________________________________________________________\n",
      "block5_conv3 (Conv2D)        (None, 14, 14, 512)       2359808   \n",
      "_________________________________________________________________\n",
      "block5_pool (MaxPooling2D)   (None, 7, 7, 512)         0         \n",
      "=================================================================\n",
      "Total params: 14,714,688\n",
      "Trainable params: 14,714,688\n",
      "Non-trainable params: 0\n",
      "_________________________________________________________________\n"
     ]
    }
   ],
   "source": [
    "modelv= VGG16(weights='imagenet',include_top=False, input_shape= (224,224,3))\n",
    "modelv.summary()"
   ]
  },
  {
   "cell_type": "code",
   "execution_count": 35,
   "metadata": {},
   "outputs": [],
   "source": [
    "for layer in modelv.layers:\n",
    "     layer.trainable = False"
   ]
  },
  {
   "cell_type": "code",
   "execution_count": 33,
   "metadata": {},
   "outputs": [],
   "source": [
    "# convert input to VGG format\n",
    "x_train_i = preprocess_input(x_train_f)"
   ]
  },
  {
   "cell_type": "code",
   "execution_count": null,
   "metadata": {},
   "outputs": [],
   "source": [
    "# use VGG to extract features\n",
    "features = modelv.predict(x_train_i)"
   ]
  },
  {
   "cell_type": "code",
   "execution_count": 115,
   "metadata": {},
   "outputs": [
    {
     "data": {
      "text/plain": [
       "(5570, 7, 7, 512)"
      ]
     },
     "execution_count": 115,
     "metadata": {},
     "output_type": "execute_result"
    }
   ],
   "source": [
    "features.shape"
   ]
  },
  {
   "cell_type": "code",
   "execution_count": 129,
   "metadata": {},
   "outputs": [],
   "source": [
    "#np.save(r'C:\\Users\\Kartikay\\Desktop\\DS Work\\Lenskart\\vgg_features_array.npy', features)"
   ]
  },
  {
   "cell_type": "code",
   "execution_count": 36,
   "metadata": {},
   "outputs": [],
   "source": [
    "features=np.load(r'C:\\Users\\Kartikay\\Desktop\\DS Work\\Lenskart\\vgg_features_array.npy')"
   ]
  },
  {
   "cell_type": "code",
   "execution_count": 37,
   "metadata": {},
   "outputs": [],
   "source": [
    "# flatten as one dimension\n",
    "features_compress=[]\n",
    "for x in features:\n",
    "    features_compress.append(x.flatten())"
   ]
  },
  {
   "cell_type": "code",
   "execution_count": 38,
   "metadata": {},
   "outputs": [
    {
     "data": {
      "text/plain": [
       "5570"
      ]
     },
     "execution_count": 38,
     "metadata": {},
     "output_type": "execute_result"
    }
   ],
   "source": [
    "len(features_compress)"
   ]
  },
  {
   "cell_type": "code",
   "execution_count": 39,
   "metadata": {},
   "outputs": [],
   "source": [
    "feature_dict=dict(zip(y_set,features_compress))"
   ]
  },
  {
   "cell_type": "code",
   "execution_count": 40,
   "metadata": {},
   "outputs": [
    {
     "data": {
      "text/plain": [
       "5570"
      ]
     },
     "execution_count": 40,
     "metadata": {},
     "output_type": "execute_result"
    }
   ],
   "source": [
    "len(y_set)"
   ]
  },
  {
   "cell_type": "code",
   "execution_count": 38,
   "metadata": {},
   "outputs": [],
   "source": [
    "import pickle\n",
    "#filehandler = open(r'C:\\Users\\Kartikay\\Desktop\\DS Work\\Lenskart\\features.pkl', 'wb')\n",
    "#pickle.dump(feature_dict, filehandler)"
   ]
  },
  {
   "cell_type": "code",
   "execution_count": 41,
   "metadata": {},
   "outputs": [
    {
     "data": {
      "text/plain": [
       "5569"
      ]
     },
     "execution_count": 41,
     "metadata": {},
     "output_type": "execute_result"
    }
   ],
   "source": [
    "len(feature_dict.values())"
   ]
  },
  {
   "cell_type": "code",
   "execution_count": 42,
   "metadata": {},
   "outputs": [],
   "source": [
    "import ipywidgets as widgets\n",
    "import ipywidgets as widgets\n",
    "from PIL import Image\n",
    "from urllib import request\n",
    "from io import BytesIO\n",
    "import io"
   ]
  },
  {
   "cell_type": "code",
   "execution_count": 43,
   "metadata": {},
   "outputs": [],
   "source": [
    "rf_df= pd.DataFrame({'product_id':y_set, 'features':features_compress})\n",
    "#rf_df= pd.DataFrame.from_dict(feature_dict)\n",
    "rf_df=pd.merge(rf_df,df,on= 'product_id',how='inner')\n",
    "rf_df.drop('product_name',axis=1,inplace=True)"
   ]
  },
  {
   "cell_type": "code",
   "execution_count": 44,
   "metadata": {},
   "outputs": [
    {
     "data": {
      "text/html": [
       "<div>\n",
       "<style scoped>\n",
       "    .dataframe tbody tr th:only-of-type {\n",
       "        vertical-align: middle;\n",
       "    }\n",
       "\n",
       "    .dataframe tbody tr th {\n",
       "        vertical-align: top;\n",
       "    }\n",
       "\n",
       "    .dataframe thead th {\n",
       "        text-align: right;\n",
       "    }\n",
       "</style>\n",
       "<table border=\"1\" class=\"dataframe\">\n",
       "  <thead>\n",
       "    <tr style=\"text-align: right;\">\n",
       "      <th></th>\n",
       "      <th>product_id</th>\n",
       "      <th>features</th>\n",
       "      <th>parent_category</th>\n",
       "      <th>Image_Front</th>\n",
       "      <th>frame_shape</th>\n",
       "    </tr>\n",
       "  </thead>\n",
       "  <tbody>\n",
       "    <tr>\n",
       "      <th>0</th>\n",
       "      <td>7643</td>\n",
       "      <td>[0.0, 0.0, 0.0, 0.0, 0.0, 0.0, 0.0, 0.0, 0.0, ...</td>\n",
       "      <td>eyeframe</td>\n",
       "      <td>http://d3b4di70nev5h5.cloudfront.net/media/cat...</td>\n",
       "      <td>Rectangle</td>\n",
       "    </tr>\n",
       "    <tr>\n",
       "      <th>1</th>\n",
       "      <td>8254</td>\n",
       "      <td>[0.0, 0.0, 0.0, 0.0, 0.0, 0.0, 0.0, 0.0, 0.0, ...</td>\n",
       "      <td>eyeframe</td>\n",
       "      <td>http://d3b4di70nev5h5.cloudfront.net/media/cat...</td>\n",
       "      <td>Rectangle</td>\n",
       "    </tr>\n",
       "    <tr>\n",
       "      <th>2</th>\n",
       "      <td>8255</td>\n",
       "      <td>[0.0, 0.0, 0.0, 0.0, 0.0, 0.0, 0.0, 0.0, 0.0, ...</td>\n",
       "      <td>eyeframe</td>\n",
       "      <td>http://d3b4di70nev5h5.cloudfront.net/media/cat...</td>\n",
       "      <td>Rectangle</td>\n",
       "    </tr>\n",
       "    <tr>\n",
       "      <th>3</th>\n",
       "      <td>8256</td>\n",
       "      <td>[0.0, 0.0, 0.0, 0.0, 0.0, 0.0, 0.0, 0.0, 0.0, ...</td>\n",
       "      <td>eyeframe</td>\n",
       "      <td>http://d3b4di70nev5h5.cloudfront.net/media/cat...</td>\n",
       "      <td>Rectangle</td>\n",
       "    </tr>\n",
       "    <tr>\n",
       "      <th>4</th>\n",
       "      <td>8257</td>\n",
       "      <td>[0.0, 0.0, 0.0, 0.0, 0.0, 0.0, 0.0, 0.0, 0.0, ...</td>\n",
       "      <td>eyeframe</td>\n",
       "      <td>http://d3b4di70nev5h5.cloudfront.net/media/cat...</td>\n",
       "      <td>Rectangle</td>\n",
       "    </tr>\n",
       "    <tr>\n",
       "      <th>...</th>\n",
       "      <td>...</td>\n",
       "      <td>...</td>\n",
       "      <td>...</td>\n",
       "      <td>...</td>\n",
       "      <td>...</td>\n",
       "    </tr>\n",
       "    <tr>\n",
       "      <th>5565</th>\n",
       "      <td>99444</td>\n",
       "      <td>[0.0, 0.0, 0.0, 0.0, 0.0, 0.0, 0.0, 0.0, 0.0, ...</td>\n",
       "      <td>Non-Power Reading</td>\n",
       "      <td>http://d3b4di70nev5h5.cloudfront.net/media/cat...</td>\n",
       "      <td>Rectangle</td>\n",
       "    </tr>\n",
       "    <tr>\n",
       "      <th>5566</th>\n",
       "      <td>99445</td>\n",
       "      <td>[0.0, 0.0, 0.0, 0.0, 0.0, 0.0, 0.0, 0.0, 0.0, ...</td>\n",
       "      <td>Non-Power Reading</td>\n",
       "      <td>http://d3b4di70nev5h5.cloudfront.net/media/cat...</td>\n",
       "      <td>Rectangle</td>\n",
       "    </tr>\n",
       "    <tr>\n",
       "      <th>5567</th>\n",
       "      <td>99446</td>\n",
       "      <td>[0.0, 0.0, 0.0, 0.0, 0.0, 0.0, 0.0, 0.0, 0.0, ...</td>\n",
       "      <td>Non-Power Reading</td>\n",
       "      <td>http://d3b4di70nev5h5.cloudfront.net/media/cat...</td>\n",
       "      <td>Rectangle</td>\n",
       "    </tr>\n",
       "    <tr>\n",
       "      <th>5568</th>\n",
       "      <td>99447</td>\n",
       "      <td>[0.0, 0.0, 0.0, 0.0, 0.0, 0.0, 0.0, 0.0, 0.0, ...</td>\n",
       "      <td>Non-Power Reading</td>\n",
       "      <td>http://d3b4di70nev5h5.cloudfront.net/media/cat...</td>\n",
       "      <td>Rectangle</td>\n",
       "    </tr>\n",
       "    <tr>\n",
       "      <th>5569</th>\n",
       "      <td>99448</td>\n",
       "      <td>[0.0, 0.0, 0.0, 0.0, 0.0, 0.0, 0.0, 0.0, 0.0, ...</td>\n",
       "      <td>Non-Power Reading</td>\n",
       "      <td>http://d3b4di70nev5h5.cloudfront.net/media/cat...</td>\n",
       "      <td>Rectangle</td>\n",
       "    </tr>\n",
       "  </tbody>\n",
       "</table>\n",
       "<p>5570 rows × 5 columns</p>\n",
       "</div>"
      ],
      "text/plain": [
       "      product_id                                           features  \\\n",
       "0           7643  [0.0, 0.0, 0.0, 0.0, 0.0, 0.0, 0.0, 0.0, 0.0, ...   \n",
       "1           8254  [0.0, 0.0, 0.0, 0.0, 0.0, 0.0, 0.0, 0.0, 0.0, ...   \n",
       "2           8255  [0.0, 0.0, 0.0, 0.0, 0.0, 0.0, 0.0, 0.0, 0.0, ...   \n",
       "3           8256  [0.0, 0.0, 0.0, 0.0, 0.0, 0.0, 0.0, 0.0, 0.0, ...   \n",
       "4           8257  [0.0, 0.0, 0.0, 0.0, 0.0, 0.0, 0.0, 0.0, 0.0, ...   \n",
       "...          ...                                                ...   \n",
       "5565       99444  [0.0, 0.0, 0.0, 0.0, 0.0, 0.0, 0.0, 0.0, 0.0, ...   \n",
       "5566       99445  [0.0, 0.0, 0.0, 0.0, 0.0, 0.0, 0.0, 0.0, 0.0, ...   \n",
       "5567       99446  [0.0, 0.0, 0.0, 0.0, 0.0, 0.0, 0.0, 0.0, 0.0, ...   \n",
       "5568       99447  [0.0, 0.0, 0.0, 0.0, 0.0, 0.0, 0.0, 0.0, 0.0, ...   \n",
       "5569       99448  [0.0, 0.0, 0.0, 0.0, 0.0, 0.0, 0.0, 0.0, 0.0, ...   \n",
       "\n",
       "        parent_category                                        Image_Front  \\\n",
       "0              eyeframe  http://d3b4di70nev5h5.cloudfront.net/media/cat...   \n",
       "1              eyeframe  http://d3b4di70nev5h5.cloudfront.net/media/cat...   \n",
       "2              eyeframe  http://d3b4di70nev5h5.cloudfront.net/media/cat...   \n",
       "3              eyeframe  http://d3b4di70nev5h5.cloudfront.net/media/cat...   \n",
       "4              eyeframe  http://d3b4di70nev5h5.cloudfront.net/media/cat...   \n",
       "...                 ...                                                ...   \n",
       "5565  Non-Power Reading  http://d3b4di70nev5h5.cloudfront.net/media/cat...   \n",
       "5566  Non-Power Reading  http://d3b4di70nev5h5.cloudfront.net/media/cat...   \n",
       "5567  Non-Power Reading  http://d3b4di70nev5h5.cloudfront.net/media/cat...   \n",
       "5568  Non-Power Reading  http://d3b4di70nev5h5.cloudfront.net/media/cat...   \n",
       "5569  Non-Power Reading  http://d3b4di70nev5h5.cloudfront.net/media/cat...   \n",
       "\n",
       "     frame_shape  \n",
       "0      Rectangle  \n",
       "1      Rectangle  \n",
       "2      Rectangle  \n",
       "3      Rectangle  \n",
       "4      Rectangle  \n",
       "...          ...  \n",
       "5565   Rectangle  \n",
       "5566   Rectangle  \n",
       "5567   Rectangle  \n",
       "5568   Rectangle  \n",
       "5569   Rectangle  \n",
       "\n",
       "[5570 rows x 5 columns]"
      ]
     },
     "execution_count": 44,
     "metadata": {},
     "output_type": "execute_result"
    }
   ],
   "source": [
    "rf_df"
   ]
  },
  {
   "cell_type": "code",
   "execution_count": 45,
   "metadata": {},
   "outputs": [],
   "source": [
    "tri=[]\n",
    "for i in range(0,len(x_train_f)) :\n",
    "    tri.append(x_train_f[i])\n",
    "rf_df['pixel_data']=tri"
   ]
  },
  {
   "cell_type": "code",
   "execution_count": 46,
   "metadata": {
    "scrolled": false
   },
   "outputs": [
    {
     "data": {
      "text/html": [
       "<div>\n",
       "<style scoped>\n",
       "    .dataframe tbody tr th:only-of-type {\n",
       "        vertical-align: middle;\n",
       "    }\n",
       "\n",
       "    .dataframe tbody tr th {\n",
       "        vertical-align: top;\n",
       "    }\n",
       "\n",
       "    .dataframe thead th {\n",
       "        text-align: right;\n",
       "    }\n",
       "</style>\n",
       "<table border=\"1\" class=\"dataframe\">\n",
       "  <thead>\n",
       "    <tr style=\"text-align: right;\">\n",
       "      <th></th>\n",
       "      <th>product_id</th>\n",
       "      <th>features</th>\n",
       "      <th>parent_category</th>\n",
       "      <th>Image_Front</th>\n",
       "      <th>frame_shape</th>\n",
       "      <th>pixel_data</th>\n",
       "    </tr>\n",
       "  </thead>\n",
       "  <tbody>\n",
       "    <tr>\n",
       "      <th>0</th>\n",
       "      <td>7643</td>\n",
       "      <td>[0.0, 0.0, 0.0, 0.0, 0.0, 0.0, 0.0, 0.0, 0.0, ...</td>\n",
       "      <td>eyeframe</td>\n",
       "      <td>http://d3b4di70nev5h5.cloudfront.net/media/cat...</td>\n",
       "      <td>Rectangle</td>\n",
       "      <td>[[[1.0, 1.0, 1.0], [1.0, 1.0, 1.0], [1.0, 1.0,...</td>\n",
       "    </tr>\n",
       "    <tr>\n",
       "      <th>1</th>\n",
       "      <td>8254</td>\n",
       "      <td>[0.0, 0.0, 0.0, 0.0, 0.0, 0.0, 0.0, 0.0, 0.0, ...</td>\n",
       "      <td>eyeframe</td>\n",
       "      <td>http://d3b4di70nev5h5.cloudfront.net/media/cat...</td>\n",
       "      <td>Rectangle</td>\n",
       "      <td>[[[0.9960784316062927, 1.0, 0.9803921580314636...</td>\n",
       "    </tr>\n",
       "    <tr>\n",
       "      <th>2</th>\n",
       "      <td>8255</td>\n",
       "      <td>[0.0, 0.0, 0.0, 0.0, 0.0, 0.0, 0.0, 0.0, 0.0, ...</td>\n",
       "      <td>eyeframe</td>\n",
       "      <td>http://d3b4di70nev5h5.cloudfront.net/media/cat...</td>\n",
       "      <td>Rectangle</td>\n",
       "      <td>[[[1.0, 1.0, 1.0], [1.0, 1.0, 1.0], [1.0, 1.0,...</td>\n",
       "    </tr>\n",
       "    <tr>\n",
       "      <th>3</th>\n",
       "      <td>8256</td>\n",
       "      <td>[0.0, 0.0, 0.0, 0.0, 0.0, 0.0, 0.0, 0.0, 0.0, ...</td>\n",
       "      <td>eyeframe</td>\n",
       "      <td>http://d3b4di70nev5h5.cloudfront.net/media/cat...</td>\n",
       "      <td>Rectangle</td>\n",
       "      <td>[[[1.0, 1.0, 1.0], [1.0, 1.0, 1.0], [1.0, 1.0,...</td>\n",
       "    </tr>\n",
       "    <tr>\n",
       "      <th>4</th>\n",
       "      <td>8257</td>\n",
       "      <td>[0.0, 0.0, 0.0, 0.0, 0.0, 0.0, 0.0, 0.0, 0.0, ...</td>\n",
       "      <td>eyeframe</td>\n",
       "      <td>http://d3b4di70nev5h5.cloudfront.net/media/cat...</td>\n",
       "      <td>Rectangle</td>\n",
       "      <td>[[[1.0, 1.0, 1.0], [1.0, 1.0, 1.0], [1.0, 1.0,...</td>\n",
       "    </tr>\n",
       "  </tbody>\n",
       "</table>\n",
       "</div>"
      ],
      "text/plain": [
       "   product_id                                           features  \\\n",
       "0        7643  [0.0, 0.0, 0.0, 0.0, 0.0, 0.0, 0.0, 0.0, 0.0, ...   \n",
       "1        8254  [0.0, 0.0, 0.0, 0.0, 0.0, 0.0, 0.0, 0.0, 0.0, ...   \n",
       "2        8255  [0.0, 0.0, 0.0, 0.0, 0.0, 0.0, 0.0, 0.0, 0.0, ...   \n",
       "3        8256  [0.0, 0.0, 0.0, 0.0, 0.0, 0.0, 0.0, 0.0, 0.0, ...   \n",
       "4        8257  [0.0, 0.0, 0.0, 0.0, 0.0, 0.0, 0.0, 0.0, 0.0, ...   \n",
       "\n",
       "  parent_category                                        Image_Front  \\\n",
       "0        eyeframe  http://d3b4di70nev5h5.cloudfront.net/media/cat...   \n",
       "1        eyeframe  http://d3b4di70nev5h5.cloudfront.net/media/cat...   \n",
       "2        eyeframe  http://d3b4di70nev5h5.cloudfront.net/media/cat...   \n",
       "3        eyeframe  http://d3b4di70nev5h5.cloudfront.net/media/cat...   \n",
       "4        eyeframe  http://d3b4di70nev5h5.cloudfront.net/media/cat...   \n",
       "\n",
       "  frame_shape                                         pixel_data  \n",
       "0   Rectangle  [[[1.0, 1.0, 1.0], [1.0, 1.0, 1.0], [1.0, 1.0,...  \n",
       "1   Rectangle  [[[0.9960784316062927, 1.0, 0.9803921580314636...  \n",
       "2   Rectangle  [[[1.0, 1.0, 1.0], [1.0, 1.0, 1.0], [1.0, 1.0,...  \n",
       "3   Rectangle  [[[1.0, 1.0, 1.0], [1.0, 1.0, 1.0], [1.0, 1.0,...  \n",
       "4   Rectangle  [[[1.0, 1.0, 1.0], [1.0, 1.0, 1.0], [1.0, 1.0,...  "
      ]
     },
     "execution_count": 46,
     "metadata": {},
     "output_type": "execute_result"
    }
   ],
   "source": [
    "rf_df.head()"
   ]
  },
  {
   "cell_type": "code",
   "execution_count": 47,
   "metadata": {
    "scrolled": true
   },
   "outputs": [],
   "source": [
    "rf_df.to_csv(r'C:\\Users\\Kartikay\\Desktop\\DS Work\\Lenskart\\Imagedata&features.csv')"
   ]
  },
  {
   "cell_type": "code",
   "execution_count": 48,
   "metadata": {},
   "outputs": [],
   "source": [
    "#rf_df=pd.read_csv(r'C:\\Users\\Kartikay\\Desktop\\DS Work\\Lenskart\\Imagedata&features.csv')\n",
    "#rf_df.head()"
   ]
  },
  {
   "cell_type": "code",
   "execution_count": 49,
   "metadata": {},
   "outputs": [
    {
     "data": {
      "text/plain": [
       "eyeframe             2182\n",
       "sunglasses           1751\n",
       "Non-Power Reading    1637\n",
       "Name: parent_category, dtype: int64"
      ]
     },
     "execution_count": 49,
     "metadata": {},
     "output_type": "execute_result"
    }
   ],
   "source": [
    "rf_df['parent_category'].value_counts()"
   ]
  },
  {
   "cell_type": "code",
   "execution_count": 50,
   "metadata": {},
   "outputs": [
    {
     "data": {
      "text/html": [
       "<div>\n",
       "<style scoped>\n",
       "    .dataframe tbody tr th:only-of-type {\n",
       "        vertical-align: middle;\n",
       "    }\n",
       "\n",
       "    .dataframe tbody tr th {\n",
       "        vertical-align: top;\n",
       "    }\n",
       "\n",
       "    .dataframe thead th {\n",
       "        text-align: right;\n",
       "    }\n",
       "</style>\n",
       "<table border=\"1\" class=\"dataframe\">\n",
       "  <thead>\n",
       "    <tr style=\"text-align: right;\">\n",
       "      <th></th>\n",
       "      <th>features</th>\n",
       "      <th>parent_category</th>\n",
       "    </tr>\n",
       "  </thead>\n",
       "  <tbody>\n",
       "    <tr>\n",
       "      <th>0</th>\n",
       "      <td>[0.0, 0.0, 0.0, 0.0, 0.0, 0.0, 0.0, 0.0, 0.0, ...</td>\n",
       "      <td>eyeframe</td>\n",
       "    </tr>\n",
       "    <tr>\n",
       "      <th>1</th>\n",
       "      <td>[0.0, 0.0, 0.0, 0.0, 0.0, 0.0, 0.0, 0.0, 0.0, ...</td>\n",
       "      <td>eyeframe</td>\n",
       "    </tr>\n",
       "    <tr>\n",
       "      <th>2</th>\n",
       "      <td>[0.0, 0.0, 0.0, 0.0, 0.0, 0.0, 0.0, 0.0, 0.0, ...</td>\n",
       "      <td>eyeframe</td>\n",
       "    </tr>\n",
       "    <tr>\n",
       "      <th>3</th>\n",
       "      <td>[0.0, 0.0, 0.0, 0.0, 0.0, 0.0, 0.0, 0.0, 0.0, ...</td>\n",
       "      <td>eyeframe</td>\n",
       "    </tr>\n",
       "    <tr>\n",
       "      <th>4</th>\n",
       "      <td>[0.0, 0.0, 0.0, 0.0, 0.0, 0.0, 0.0, 0.0, 0.0, ...</td>\n",
       "      <td>eyeframe</td>\n",
       "    </tr>\n",
       "  </tbody>\n",
       "</table>\n",
       "</div>"
      ],
      "text/plain": [
       "                                            features parent_category\n",
       "0  [0.0, 0.0, 0.0, 0.0, 0.0, 0.0, 0.0, 0.0, 0.0, ...        eyeframe\n",
       "1  [0.0, 0.0, 0.0, 0.0, 0.0, 0.0, 0.0, 0.0, 0.0, ...        eyeframe\n",
       "2  [0.0, 0.0, 0.0, 0.0, 0.0, 0.0, 0.0, 0.0, 0.0, ...        eyeframe\n",
       "3  [0.0, 0.0, 0.0, 0.0, 0.0, 0.0, 0.0, 0.0, 0.0, ...        eyeframe\n",
       "4  [0.0, 0.0, 0.0, 0.0, 0.0, 0.0, 0.0, 0.0, 0.0, ...        eyeframe"
      ]
     },
     "execution_count": 50,
     "metadata": {},
     "output_type": "execute_result"
    }
   ],
   "source": [
    "parent_cat=rf_df[['features','parent_category']]\n",
    "parent_cat.head()"
   ]
  },
  {
   "cell_type": "code",
   "execution_count": 51,
   "metadata": {},
   "outputs": [
    {
     "data": {
      "text/html": [
       "<div>\n",
       "<style scoped>\n",
       "    .dataframe tbody tr th:only-of-type {\n",
       "        vertical-align: middle;\n",
       "    }\n",
       "\n",
       "    .dataframe tbody tr th {\n",
       "        vertical-align: top;\n",
       "    }\n",
       "\n",
       "    .dataframe thead th {\n",
       "        text-align: right;\n",
       "    }\n",
       "</style>\n",
       "<table border=\"1\" class=\"dataframe\">\n",
       "  <thead>\n",
       "    <tr style=\"text-align: right;\">\n",
       "      <th></th>\n",
       "      <th>features</th>\n",
       "      <th>frame_shape</th>\n",
       "    </tr>\n",
       "  </thead>\n",
       "  <tbody>\n",
       "    <tr>\n",
       "      <th>0</th>\n",
       "      <td>[0.0, 0.0, 0.0, 0.0, 0.0, 0.0, 0.0, 0.0, 0.0, ...</td>\n",
       "      <td>Rectangle</td>\n",
       "    </tr>\n",
       "    <tr>\n",
       "      <th>1</th>\n",
       "      <td>[0.0, 0.0, 0.0, 0.0, 0.0, 0.0, 0.0, 0.0, 0.0, ...</td>\n",
       "      <td>Rectangle</td>\n",
       "    </tr>\n",
       "    <tr>\n",
       "      <th>2</th>\n",
       "      <td>[0.0, 0.0, 0.0, 0.0, 0.0, 0.0, 0.0, 0.0, 0.0, ...</td>\n",
       "      <td>Rectangle</td>\n",
       "    </tr>\n",
       "    <tr>\n",
       "      <th>3</th>\n",
       "      <td>[0.0, 0.0, 0.0, 0.0, 0.0, 0.0, 0.0, 0.0, 0.0, ...</td>\n",
       "      <td>Rectangle</td>\n",
       "    </tr>\n",
       "    <tr>\n",
       "      <th>4</th>\n",
       "      <td>[0.0, 0.0, 0.0, 0.0, 0.0, 0.0, 0.0, 0.0, 0.0, ...</td>\n",
       "      <td>Rectangle</td>\n",
       "    </tr>\n",
       "  </tbody>\n",
       "</table>\n",
       "</div>"
      ],
      "text/plain": [
       "                                            features frame_shape\n",
       "0  [0.0, 0.0, 0.0, 0.0, 0.0, 0.0, 0.0, 0.0, 0.0, ...   Rectangle\n",
       "1  [0.0, 0.0, 0.0, 0.0, 0.0, 0.0, 0.0, 0.0, 0.0, ...   Rectangle\n",
       "2  [0.0, 0.0, 0.0, 0.0, 0.0, 0.0, 0.0, 0.0, 0.0, ...   Rectangle\n",
       "3  [0.0, 0.0, 0.0, 0.0, 0.0, 0.0, 0.0, 0.0, 0.0, ...   Rectangle\n",
       "4  [0.0, 0.0, 0.0, 0.0, 0.0, 0.0, 0.0, 0.0, 0.0, ...   Rectangle"
      ]
     },
     "execution_count": 51,
     "metadata": {},
     "output_type": "execute_result"
    }
   ],
   "source": [
    "frame_shape=rf_df[['features','frame_shape']]\n",
    "frame_shape.head()"
   ]
  },
  {
   "cell_type": "code",
   "execution_count": 52,
   "metadata": {},
   "outputs": [],
   "source": [
    "from sklearn.preprocessing import LabelEncoder"
   ]
  },
  {
   "cell_type": "code",
   "execution_count": 53,
   "metadata": {},
   "outputs": [],
   "source": [
    "encode=LabelEncoder()"
   ]
  },
  {
   "cell_type": "code",
   "execution_count": 54,
   "metadata": {},
   "outputs": [
    {
     "name": "stderr",
     "output_type": "stream",
     "text": [
      "C:\\Users\\Kartikay\\anaconda3\\envs\\Tensor\\lib\\site-packages\\ipykernel_launcher.py:1: SettingWithCopyWarning: \n",
      "A value is trying to be set on a copy of a slice from a DataFrame.\n",
      "Try using .loc[row_indexer,col_indexer] = value instead\n",
      "\n",
      "See the caveats in the documentation: https://pandas.pydata.org/pandas-docs/stable/user_guide/indexing.html#returning-a-view-versus-a-copy\n",
      "  \"\"\"Entry point for launching an IPython kernel.\n"
     ]
    },
    {
     "data": {
      "text/html": [
       "<div>\n",
       "<style scoped>\n",
       "    .dataframe tbody tr th:only-of-type {\n",
       "        vertical-align: middle;\n",
       "    }\n",
       "\n",
       "    .dataframe tbody tr th {\n",
       "        vertical-align: top;\n",
       "    }\n",
       "\n",
       "    .dataframe thead th {\n",
       "        text-align: right;\n",
       "    }\n",
       "</style>\n",
       "<table border=\"1\" class=\"dataframe\">\n",
       "  <thead>\n",
       "    <tr style=\"text-align: right;\">\n",
       "      <th></th>\n",
       "      <th>features</th>\n",
       "      <th>frame_shape</th>\n",
       "    </tr>\n",
       "  </thead>\n",
       "  <tbody>\n",
       "    <tr>\n",
       "      <th>0</th>\n",
       "      <td>[0.0, 0.0, 0.0, 0.0, 0.0, 0.0, 0.0, 0.0, 0.0, ...</td>\n",
       "      <td>2</td>\n",
       "    </tr>\n",
       "    <tr>\n",
       "      <th>1</th>\n",
       "      <td>[0.0, 0.0, 0.0, 0.0, 0.0, 0.0, 0.0, 0.0, 0.0, ...</td>\n",
       "      <td>2</td>\n",
       "    </tr>\n",
       "    <tr>\n",
       "      <th>2</th>\n",
       "      <td>[0.0, 0.0, 0.0, 0.0, 0.0, 0.0, 0.0, 0.0, 0.0, ...</td>\n",
       "      <td>2</td>\n",
       "    </tr>\n",
       "    <tr>\n",
       "      <th>3</th>\n",
       "      <td>[0.0, 0.0, 0.0, 0.0, 0.0, 0.0, 0.0, 0.0, 0.0, ...</td>\n",
       "      <td>2</td>\n",
       "    </tr>\n",
       "    <tr>\n",
       "      <th>4</th>\n",
       "      <td>[0.0, 0.0, 0.0, 0.0, 0.0, 0.0, 0.0, 0.0, 0.0, ...</td>\n",
       "      <td>2</td>\n",
       "    </tr>\n",
       "  </tbody>\n",
       "</table>\n",
       "</div>"
      ],
      "text/plain": [
       "                                            features  frame_shape\n",
       "0  [0.0, 0.0, 0.0, 0.0, 0.0, 0.0, 0.0, 0.0, 0.0, ...            2\n",
       "1  [0.0, 0.0, 0.0, 0.0, 0.0, 0.0, 0.0, 0.0, 0.0, ...            2\n",
       "2  [0.0, 0.0, 0.0, 0.0, 0.0, 0.0, 0.0, 0.0, 0.0, ...            2\n",
       "3  [0.0, 0.0, 0.0, 0.0, 0.0, 0.0, 0.0, 0.0, 0.0, ...            2\n",
       "4  [0.0, 0.0, 0.0, 0.0, 0.0, 0.0, 0.0, 0.0, 0.0, ...            2"
      ]
     },
     "execution_count": 54,
     "metadata": {},
     "output_type": "execute_result"
    }
   ],
   "source": [
    "frame_shape['frame_shape']=encode.fit_transform(frame_shape['frame_shape'])\n",
    "frame_shape.head()"
   ]
  },
  {
   "cell_type": "code",
   "execution_count": 55,
   "metadata": {
    "scrolled": true
   },
   "outputs": [
    {
     "data": {
      "text/plain": [
       "2    3395\n",
       "0     986\n",
       "3     723\n",
       "1     466\n",
       "Name: frame_shape, dtype: int64"
      ]
     },
     "execution_count": 55,
     "metadata": {},
     "output_type": "execute_result"
    }
   ],
   "source": [
    "frame_shape['frame_shape'].value_counts()"
   ]
  },
  {
   "cell_type": "code",
   "execution_count": 56,
   "metadata": {
    "scrolled": true
   },
   "outputs": [
    {
     "name": "stderr",
     "output_type": "stream",
     "text": [
      "C:\\Users\\Kartikay\\anaconda3\\envs\\Tensor\\lib\\site-packages\\ipykernel_launcher.py:1: SettingWithCopyWarning: \n",
      "A value is trying to be set on a copy of a slice from a DataFrame.\n",
      "Try using .loc[row_indexer,col_indexer] = value instead\n",
      "\n",
      "See the caveats in the documentation: https://pandas.pydata.org/pandas-docs/stable/user_guide/indexing.html#returning-a-view-versus-a-copy\n",
      "  \"\"\"Entry point for launching an IPython kernel.\n"
     ]
    },
    {
     "data": {
      "text/html": [
       "<div>\n",
       "<style scoped>\n",
       "    .dataframe tbody tr th:only-of-type {\n",
       "        vertical-align: middle;\n",
       "    }\n",
       "\n",
       "    .dataframe tbody tr th {\n",
       "        vertical-align: top;\n",
       "    }\n",
       "\n",
       "    .dataframe thead th {\n",
       "        text-align: right;\n",
       "    }\n",
       "</style>\n",
       "<table border=\"1\" class=\"dataframe\">\n",
       "  <thead>\n",
       "    <tr style=\"text-align: right;\">\n",
       "      <th></th>\n",
       "      <th>features</th>\n",
       "      <th>parent_category</th>\n",
       "    </tr>\n",
       "  </thead>\n",
       "  <tbody>\n",
       "    <tr>\n",
       "      <th>0</th>\n",
       "      <td>[0.0, 0.0, 0.0, 0.0, 0.0, 0.0, 0.0, 0.0, 0.0, ...</td>\n",
       "      <td>1</td>\n",
       "    </tr>\n",
       "    <tr>\n",
       "      <th>1</th>\n",
       "      <td>[0.0, 0.0, 0.0, 0.0, 0.0, 0.0, 0.0, 0.0, 0.0, ...</td>\n",
       "      <td>1</td>\n",
       "    </tr>\n",
       "    <tr>\n",
       "      <th>2</th>\n",
       "      <td>[0.0, 0.0, 0.0, 0.0, 0.0, 0.0, 0.0, 0.0, 0.0, ...</td>\n",
       "      <td>1</td>\n",
       "    </tr>\n",
       "    <tr>\n",
       "      <th>3</th>\n",
       "      <td>[0.0, 0.0, 0.0, 0.0, 0.0, 0.0, 0.0, 0.0, 0.0, ...</td>\n",
       "      <td>1</td>\n",
       "    </tr>\n",
       "    <tr>\n",
       "      <th>4</th>\n",
       "      <td>[0.0, 0.0, 0.0, 0.0, 0.0, 0.0, 0.0, 0.0, 0.0, ...</td>\n",
       "      <td>1</td>\n",
       "    </tr>\n",
       "  </tbody>\n",
       "</table>\n",
       "</div>"
      ],
      "text/plain": [
       "                                            features  parent_category\n",
       "0  [0.0, 0.0, 0.0, 0.0, 0.0, 0.0, 0.0, 0.0, 0.0, ...                1\n",
       "1  [0.0, 0.0, 0.0, 0.0, 0.0, 0.0, 0.0, 0.0, 0.0, ...                1\n",
       "2  [0.0, 0.0, 0.0, 0.0, 0.0, 0.0, 0.0, 0.0, 0.0, ...                1\n",
       "3  [0.0, 0.0, 0.0, 0.0, 0.0, 0.0, 0.0, 0.0, 0.0, ...                1\n",
       "4  [0.0, 0.0, 0.0, 0.0, 0.0, 0.0, 0.0, 0.0, 0.0, ...                1"
      ]
     },
     "execution_count": 56,
     "metadata": {},
     "output_type": "execute_result"
    }
   ],
   "source": [
    "parent_cat['parent_category']=encode.fit_transform(parent_cat['parent_category'])\n",
    "parent_cat.head()"
   ]
  },
  {
   "cell_type": "code",
   "execution_count": 57,
   "metadata": {},
   "outputs": [],
   "source": [
    "cat_dict= {1:'eyeframe',\n",
    "    0:'Non-Power Reading',\n",
    "    2:'sunglasses'}\n",
    "\n",
    "shap_dict={\n",
    "    0:'Aviator',\n",
    "    1:'Oval',\n",
    "    2:'Rectangle',\n",
    "    3:'Wayfarer'\n",
    "}"
   ]
  },
  {
   "cell_type": "code",
   "execution_count": 58,
   "metadata": {},
   "outputs": [],
   "source": [
    "inputt= Input(shape=(7,7,512))\n",
    "flat=Flatten()(inputt)"
   ]
  },
  {
   "cell_type": "code",
   "execution_count": 59,
   "metadata": {
    "scrolled": true
   },
   "outputs": [],
   "source": [
    "#Category ANN\n",
    "#l1= Dense(1024, activation='relu',input_shape=(1,25088))(features_compress)\n",
    "\n",
    "#flat11=Flatten()(inputt)\n",
    "fc11 = Dense(1024, activation='relu', name='fc11')(flat)\n",
    "drop11 = Dropout(0.01, name='drop11')(fc11)\n",
    "fc12 = Dense(1024, activation='relu', name='fc12')(drop11)\n",
    "drop12= Dropout(0.01, name='drop12')(fc12)\n",
    "fc13 = Dense(512, activation='relu', name='fc13')(drop12)\n",
    "drop13= Dropout(0.01, name='drop13')(fc13)\n",
    "fc14 = Dense(512, activation='relu', name='fc14')(drop13)\n",
    "drop14= Dropout(0.01, name='drop14')(fc14)\n",
    "op_cat= Dense(3, activation='softmax', name='op_cat')(drop14)\n",
    "\n"
   ]
  },
  {
   "cell_type": "code",
   "execution_count": 60,
   "metadata": {},
   "outputs": [],
   "source": [
    "#inputt2= Input(shape=(7,7,512))\n",
    "#flat22=Flatten()(inputt)\n",
    "fc21= Dense(1024, activation='relu', name='fc21')(flat)\n",
    "drop21 = Dropout(0.01, name='drop21')(fc21)\n",
    "fc22 = Dense(1024, activation='relu', name='fc22')(drop21)\n",
    "drop22= Dropout(0.01, name='drop22')(fc22)\n",
    "fc23 = Dense(512, activation='relu', name='fc23')(drop22)\n",
    "drop23= Dropout(0.01, name='drop23')(fc23)\n",
    "fc24 = Dense(512, activation='relu', name='fc24')(drop23)\n",
    "drop24= Dropout(0.01, name='drop24')(fc24)\n",
    "op_shape= Dense(4, activation='softmax', name='op_shape')(drop24)\n"
   ]
  },
  {
   "cell_type": "code",
   "execution_count": 61,
   "metadata": {},
   "outputs": [],
   "source": [
    "model=Model(inputs=[inputt],outputs=[op_cat,op_shape])\n",
    "#loss={'op_cat':'categorical_crossentropy','op_shape':'categorical_crossentropy'}\n",
    "model.compile(optimizer='adam',loss='sparse_categorical_crossentropy',\n",
    "             metrics = ['accuracy'])\n"
   ]
  },
  {
   "cell_type": "code",
   "execution_count": 177,
   "metadata": {
    "scrolled": true
   },
   "outputs": [
    {
     "name": "stdout",
     "output_type": "stream",
     "text": [
      "Train on 5570 samples\n",
      "Epoch 1/250\n",
      "5570/5570 [==============================] - 22s 4ms/sample - loss: 3.0686 - op_cat_loss: 1.4538 - op_shape_loss: 1.6011 - op_cat_accuracy: 0.5305 - op_shape_accuracy: 0.5571\n",
      "Epoch 2/250\n",
      "5570/5570 [==============================] - 20s 4ms/sample - loss: 1.5237 - op_cat_loss: 0.6079 - op_shape_loss: 0.9135 - op_cat_accuracy: 0.7167 - op_shape_accuracy: 0.6395\n",
      "Epoch 3/250\n",
      "5570/5570 [==============================] - 20s 4ms/sample - loss: 1.3599 - op_cat_loss: 0.4981 - op_shape_loss: 0.8581 - op_cat_accuracy: 0.7813 - op_shape_accuracy: 0.6684\n",
      "Epoch 4/250\n",
      "5570/5570 [==============================] - 19s 3ms/sample - loss: 1.1349 - op_cat_loss: 0.3626 - op_shape_loss: 0.7709 - op_cat_accuracy: 0.8571 - op_shape_accuracy: 0.7070\n",
      "Epoch 5/250\n",
      "5570/5570 [==============================] - 20s 4ms/sample - loss: 1.1034 - op_cat_loss: 0.3310 - op_shape_loss: 0.7722 - op_cat_accuracy: 0.8709 - op_shape_accuracy: 0.7002\n",
      "Epoch 6/250\n",
      "5570/5570 [==============================] - 20s 4ms/sample - loss: 1.0244 - op_cat_loss: 0.3154 - op_shape_loss: 0.7094 - op_cat_accuracy: 0.8783 - op_shape_accuracy: 0.7307\n",
      "Epoch 7/250\n",
      "5570/5570 [==============================] - 19s 3ms/sample - loss: 1.0772 - op_cat_loss: 0.3196 - op_shape_loss: 0.7588 - op_cat_accuracy: 0.8747 - op_shape_accuracy: 0.7147\n",
      "Epoch 8/250\n",
      "5570/5570 [==============================] - 19s 3ms/sample - loss: 0.9390 - op_cat_loss: 0.2572 - op_shape_loss: 0.6817 - op_cat_accuracy: 0.9000 - op_shape_accuracy: 0.7483\n",
      "Epoch 9/250\n",
      "5570/5570 [==============================] - 19s 3ms/sample - loss: 0.9704 - op_cat_loss: 0.2617 - op_shape_loss: 0.7101 - op_cat_accuracy: 0.8982 - op_shape_accuracy: 0.7294\n",
      "Epoch 10/250\n",
      "5570/5570 [==============================] - 19s 3ms/sample - loss: 0.9786 - op_cat_loss: 0.3136 - op_shape_loss: 0.6632 - op_cat_accuracy: 0.8697 - op_shape_accuracy: 0.7497\n",
      "Epoch 11/250\n",
      "5570/5570 [==============================] - 19s 3ms/sample - loss: 0.8825 - op_cat_loss: 0.2422 - op_shape_loss: 0.6426 - op_cat_accuracy: 0.9113 - op_shape_accuracy: 0.7546\n",
      "Epoch 12/250\n",
      "5570/5570 [==============================] - 19s 3ms/sample - loss: 0.8869 - op_cat_loss: 0.2356 - op_shape_loss: 0.6506 - op_cat_accuracy: 0.9074 - op_shape_accuracy: 0.7562\n",
      "Epoch 13/250\n",
      "5570/5570 [==============================] - 19s 3ms/sample - loss: 0.8728 - op_cat_loss: 0.2130 - op_shape_loss: 0.6593 - op_cat_accuracy: 0.9190 - op_shape_accuracy: 0.7458\n",
      "Epoch 14/250\n",
      "5570/5570 [==============================] - 19s 3ms/sample - loss: 0.8265 - op_cat_loss: 0.2094 - op_shape_loss: 0.6167 - op_cat_accuracy: 0.9268 - op_shape_accuracy: 0.7709\n",
      "Epoch 15/250\n",
      "5570/5570 [==============================] - 19s 3ms/sample - loss: 0.8136 - op_cat_loss: 0.2054 - op_shape_loss: 0.6063 - op_cat_accuracy: 0.9232 - op_shape_accuracy: 0.7715\n",
      "Epoch 16/250\n",
      "5570/5570 [==============================] - 19s 3ms/sample - loss: 0.8203 - op_cat_loss: 0.2142 - op_shape_loss: 0.6093 - op_cat_accuracy: 0.9151 - op_shape_accuracy: 0.7725\n",
      "Epoch 17/250\n",
      "5570/5570 [==============================] - 19s 3ms/sample - loss: 0.8073 - op_cat_loss: 0.1976 - op_shape_loss: 0.6076 - op_cat_accuracy: 0.9253 - op_shape_accuracy: 0.7738\n",
      "Epoch 18/250\n",
      "5570/5570 [==============================] - 19s 3ms/sample - loss: 0.8117 - op_cat_loss: 0.2106 - op_shape_loss: 0.6022 - op_cat_accuracy: 0.9232 - op_shape_accuracy: 0.7759\n",
      "Epoch 19/250\n",
      "5570/5570 [==============================] - 19s 3ms/sample - loss: 0.8745 - op_cat_loss: 0.2280 - op_shape_loss: 0.6417 - op_cat_accuracy: 0.9102 - op_shape_accuracy: 0.7601\n",
      "Epoch 20/250\n",
      "5570/5570 [==============================] - 19s 3ms/sample - loss: 0.7837 - op_cat_loss: 0.1966 - op_shape_loss: 0.5882 - op_cat_accuracy: 0.9273 - op_shape_accuracy: 0.7860\n",
      "Epoch 21/250\n",
      "5570/5570 [==============================] - 19s 3ms/sample - loss: 0.8286 - op_cat_loss: 0.2166 - op_shape_loss: 0.6140 - op_cat_accuracy: 0.9167 - op_shape_accuracy: 0.7750\n",
      "Epoch 22/250\n",
      "5570/5570 [==============================] - 19s 3ms/sample - loss: 0.8285 - op_cat_loss: 0.2382 - op_shape_loss: 0.5894 - op_cat_accuracy: 0.9097 - op_shape_accuracy: 0.7776\n",
      "Epoch 23/250\n",
      "5570/5570 [==============================] - 19s 3ms/sample - loss: 0.8310 - op_cat_loss: 0.2633 - op_shape_loss: 0.5674 - op_cat_accuracy: 0.8908 - op_shape_accuracy: 0.7887\n",
      "Epoch 24/250\n",
      "5570/5570 [==============================] - 19s 3ms/sample - loss: 0.7269 - op_cat_loss: 0.1734 - op_shape_loss: 0.5554 - op_cat_accuracy: 0.9366 - op_shape_accuracy: 0.7991\n",
      "Epoch 25/250\n",
      "5570/5570 [==============================] - 20s 4ms/sample - loss: 0.7296 - op_cat_loss: 0.1659 - op_shape_loss: 0.5651 - op_cat_accuracy: 0.9390 - op_shape_accuracy: 0.7937\n",
      "Epoch 26/250\n",
      "5570/5570 [==============================] - 19s 3ms/sample - loss: 0.7554 - op_cat_loss: 0.1898 - op_shape_loss: 0.5671 - op_cat_accuracy: 0.9300 - op_shape_accuracy: 0.7885\n",
      "Epoch 27/250\n",
      "5570/5570 [==============================] - 19s 3ms/sample - loss: 0.7485 - op_cat_loss: 0.1772 - op_shape_loss: 0.5714 - op_cat_accuracy: 0.9330 - op_shape_accuracy: 0.7914\n",
      "Epoch 28/250\n",
      "5570/5570 [==============================] - 19s 3ms/sample - loss: 0.6867 - op_cat_loss: 0.1433 - op_shape_loss: 0.5427 - op_cat_accuracy: 0.9478 - op_shape_accuracy: 0.7995\n",
      "Epoch 29/250\n",
      "5570/5570 [==============================] - 20s 4ms/sample - loss: 0.6964 - op_cat_loss: 0.1513 - op_shape_loss: 0.5459 - op_cat_accuracy: 0.9400 - op_shape_accuracy: 0.7968\n",
      "Epoch 30/250\n",
      "5570/5570 [==============================] - 20s 4ms/sample - loss: 0.6973 - op_cat_loss: 0.1518 - op_shape_loss: 0.5452 - op_cat_accuracy: 0.9404 - op_shape_accuracy: 0.7991\n",
      "Epoch 31/250\n",
      "5570/5570 [==============================] - 20s 4ms/sample - loss: 0.7474 - op_cat_loss: 0.1763 - op_shape_loss: 0.5716 - op_cat_accuracy: 0.9345 - op_shape_accuracy: 0.7833\n",
      "Epoch 32/250\n",
      "5570/5570 [==============================] - 21s 4ms/sample - loss: 0.6763 - op_cat_loss: 0.1502 - op_shape_loss: 0.5259 - op_cat_accuracy: 0.9433 - op_shape_accuracy: 0.8070\n",
      "Epoch 33/250\n",
      "5570/5570 [==============================] - 21s 4ms/sample - loss: 0.6995 - op_cat_loss: 0.1344 - op_shape_loss: 0.5652 - op_cat_accuracy: 0.9496 - op_shape_accuracy: 0.7925\n",
      "Epoch 34/250\n",
      "5570/5570 [==============================] - 20s 4ms/sample - loss: 0.6852 - op_cat_loss: 0.1587 - op_shape_loss: 0.5288 - op_cat_accuracy: 0.9377 - op_shape_accuracy: 0.8095\n",
      "Epoch 35/250\n",
      "5570/5570 [==============================] - 20s 4ms/sample - loss: 0.7009 - op_cat_loss: 0.1371 - op_shape_loss: 0.5648 - op_cat_accuracy: 0.9465 - op_shape_accuracy: 0.7959\n",
      "Epoch 36/250\n",
      "5570/5570 [==============================] - 20s 4ms/sample - loss: 0.7089 - op_cat_loss: 0.1672 - op_shape_loss: 0.5402 - op_cat_accuracy: 0.9354 - op_shape_accuracy: 0.8002\n",
      "Epoch 37/250\n",
      "5570/5570 [==============================] - 20s 4ms/sample - loss: 0.6794 - op_cat_loss: 0.1552 - op_shape_loss: 0.5247 - op_cat_accuracy: 0.9386 - op_shape_accuracy: 0.8074\n",
      "Epoch 38/250\n",
      "5570/5570 [==============================] - 20s 4ms/sample - loss: 0.7312 - op_cat_loss: 0.1823 - op_shape_loss: 0.5478 - op_cat_accuracy: 0.9244 - op_shape_accuracy: 0.7926\n",
      "Epoch 39/250\n",
      "5570/5570 [==============================] - 20s 4ms/sample - loss: 0.6901 - op_cat_loss: 0.1415 - op_shape_loss: 0.5496 - op_cat_accuracy: 0.9436 - op_shape_accuracy: 0.7984\n",
      "Epoch 40/250\n",
      "5570/5570 [==============================] - 20s 4ms/sample - loss: 0.6817 - op_cat_loss: 0.1473 - op_shape_loss: 0.5338 - op_cat_accuracy: 0.9429 - op_shape_accuracy: 0.8020\n",
      "Epoch 41/250\n",
      "5570/5570 [==============================] - 20s 4ms/sample - loss: 0.6718 - op_cat_loss: 0.1691 - op_shape_loss: 0.5001 - op_cat_accuracy: 0.9345 - op_shape_accuracy: 0.8142\n",
      "Epoch 42/250\n",
      "5570/5570 [==============================] - 21s 4ms/sample - loss: 0.6639 - op_cat_loss: 0.1290 - op_shape_loss: 0.5349 - op_cat_accuracy: 0.9504 - op_shape_accuracy: 0.8025\n",
      "Epoch 43/250\n",
      "5570/5570 [==============================] - 21s 4ms/sample - loss: 0.6358 - op_cat_loss: 0.1415 - op_shape_loss: 0.4942 - op_cat_accuracy: 0.9442 - op_shape_accuracy: 0.8205\n",
      "Epoch 44/250\n",
      "5570/5570 [==============================] - 20s 4ms/sample - loss: 0.6612 - op_cat_loss: 0.1558 - op_shape_loss: 0.5036 - op_cat_accuracy: 0.9409 - op_shape_accuracy: 0.8163\n",
      "Epoch 45/250\n",
      "5570/5570 [==============================] - 21s 4ms/sample - loss: 0.6443 - op_cat_loss: 0.1354 - op_shape_loss: 0.5099 - op_cat_accuracy: 0.9461 - op_shape_accuracy: 0.8176\n",
      "Epoch 46/250\n",
      "5570/5570 [==============================] - 20s 4ms/sample - loss: 0.6185 - op_cat_loss: 0.1390 - op_shape_loss: 0.4782 - op_cat_accuracy: 0.9456 - op_shape_accuracy: 0.8278\n",
      "Epoch 47/250\n",
      "5570/5570 [==============================] - 21s 4ms/sample - loss: 0.6228 - op_cat_loss: 0.1158 - op_shape_loss: 0.5084 - op_cat_accuracy: 0.9558 - op_shape_accuracy: 0.8142\n",
      "Epoch 48/250\n",
      "5570/5570 [==============================] - 20s 4ms/sample - loss: 0.6296 - op_cat_loss: 0.1431 - op_shape_loss: 0.4885 - op_cat_accuracy: 0.9449 - op_shape_accuracy: 0.8210\n",
      "Epoch 49/250\n",
      "5570/5570 [==============================] - 20s 4ms/sample - loss: 0.6879 - op_cat_loss: 0.1566 - op_shape_loss: 0.5310 - op_cat_accuracy: 0.9375 - op_shape_accuracy: 0.8086\n",
      "Epoch 50/250\n",
      "5570/5570 [==============================] - 20s 4ms/sample - loss: 0.6182 - op_cat_loss: 0.1306 - op_shape_loss: 0.4881 - op_cat_accuracy: 0.9519 - op_shape_accuracy: 0.8233\n",
      "Epoch 51/250\n",
      "5570/5570 [==============================] - 21s 4ms/sample - loss: 0.6093 - op_cat_loss: 0.1241 - op_shape_loss: 0.4854 - op_cat_accuracy: 0.9531 - op_shape_accuracy: 0.8221\n",
      "Epoch 52/250\n",
      "5570/5570 [==============================] - 20s 4ms/sample - loss: 0.6036 - op_cat_loss: 0.1195 - op_shape_loss: 0.4827 - op_cat_accuracy: 0.9539 - op_shape_accuracy: 0.8285\n",
      "Epoch 53/250\n",
      "5570/5570 [==============================] - 20s 4ms/sample - loss: 0.6037 - op_cat_loss: 0.1185 - op_shape_loss: 0.4836 - op_cat_accuracy: 0.9573 - op_shape_accuracy: 0.8287\n",
      "Epoch 54/250\n",
      "5570/5570 [==============================] - 20s 4ms/sample - loss: 0.5875 - op_cat_loss: 0.1029 - op_shape_loss: 0.4844 - op_cat_accuracy: 0.9619 - op_shape_accuracy: 0.8239\n",
      "Epoch 55/250\n",
      "5570/5570 [==============================] - 20s 4ms/sample - loss: 0.6255 - op_cat_loss: 0.1399 - op_shape_loss: 0.4861 - op_cat_accuracy: 0.9456 - op_shape_accuracy: 0.8250\n",
      "Epoch 56/250\n",
      "5570/5570 [==============================] - 20s 4ms/sample - loss: 0.6027 - op_cat_loss: 0.1132 - op_shape_loss: 0.4902 - op_cat_accuracy: 0.9562 - op_shape_accuracy: 0.8246\n",
      "Epoch 57/250\n",
      "5570/5570 [==============================] - 20s 4ms/sample - loss: 0.6538 - op_cat_loss: 0.1427 - op_shape_loss: 0.5097 - op_cat_accuracy: 0.9434 - op_shape_accuracy: 0.8099\n",
      "Epoch 58/250\n",
      "5570/5570 [==============================] - 20s 4ms/sample - loss: 0.5865 - op_cat_loss: 0.1148 - op_shape_loss: 0.4730 - op_cat_accuracy: 0.9569 - op_shape_accuracy: 0.8305\n",
      "Epoch 59/250\n",
      "5570/5570 [==============================] - 20s 4ms/sample - loss: 0.6004 - op_cat_loss: 0.1243 - op_shape_loss: 0.4774 - op_cat_accuracy: 0.9513 - op_shape_accuracy: 0.8246\n",
      "Epoch 60/250\n",
      "5570/5570 [==============================] - 21s 4ms/sample - loss: 0.6175 - op_cat_loss: 0.1365 - op_shape_loss: 0.4795 - op_cat_accuracy: 0.9436 - op_shape_accuracy: 0.8275\n",
      "Epoch 61/250\n",
      "5570/5570 [==============================] - 20s 4ms/sample - loss: 0.6268 - op_cat_loss: 0.1234 - op_shape_loss: 0.5010 - op_cat_accuracy: 0.9519 - op_shape_accuracy: 0.8203\n",
      "Epoch 62/250\n",
      "5570/5570 [==============================] - 20s 4ms/sample - loss: 0.5826 - op_cat_loss: 0.1103 - op_shape_loss: 0.4737 - op_cat_accuracy: 0.9585 - op_shape_accuracy: 0.8259\n",
      "Epoch 63/250\n",
      "5570/5570 [==============================] - 20s 4ms/sample - loss: 0.5576 - op_cat_loss: 0.1059 - op_shape_loss: 0.4501 - op_cat_accuracy: 0.9610 - op_shape_accuracy: 0.8325\n",
      "Epoch 64/250\n",
      "5570/5570 [==============================] - 20s 4ms/sample - loss: 0.5920 - op_cat_loss: 0.1108 - op_shape_loss: 0.4798 - op_cat_accuracy: 0.9594 - op_shape_accuracy: 0.8266\n",
      "Epoch 65/250\n",
      "5570/5570 [==============================] - 20s 4ms/sample - loss: 0.6093 - op_cat_loss: 0.1118 - op_shape_loss: 0.4966 - op_cat_accuracy: 0.9549 - op_shape_accuracy: 0.8205\n",
      "Epoch 66/250\n",
      "5570/5570 [==============================] - 20s 4ms/sample - loss: 0.6168 - op_cat_loss: 0.1076 - op_shape_loss: 0.5095 - op_cat_accuracy: 0.9601 - op_shape_accuracy: 0.8172\n",
      "Epoch 67/250\n",
      "5570/5570 [==============================] - 20s 4ms/sample - loss: 0.5868 - op_cat_loss: 0.1179 - op_shape_loss: 0.4720 - op_cat_accuracy: 0.9548 - op_shape_accuracy: 0.8273\n",
      "Epoch 68/250\n",
      "5570/5570 [==============================] - 20s 4ms/sample - loss: 0.6825 - op_cat_loss: 0.2337 - op_shape_loss: 0.4499 - op_cat_accuracy: 0.9189 - op_shape_accuracy: 0.8361\n",
      "Epoch 69/250\n",
      "5570/5570 [==============================] - 20s 4ms/sample - loss: 0.6577 - op_cat_loss: 0.1906 - op_shape_loss: 0.4668 - op_cat_accuracy: 0.9257 - op_shape_accuracy: 0.8275\n",
      "Epoch 70/250\n",
      "5570/5570 [==============================] - 20s 4ms/sample - loss: 0.5999 - op_cat_loss: 0.1287 - op_shape_loss: 0.4711 - op_cat_accuracy: 0.9470 - op_shape_accuracy: 0.8259\n",
      "Epoch 71/250\n",
      "5570/5570 [==============================] - 20s 4ms/sample - loss: 0.5764 - op_cat_loss: 0.1370 - op_shape_loss: 0.4409 - op_cat_accuracy: 0.9467 - op_shape_accuracy: 0.8443\n",
      "Epoch 72/250\n",
      "5570/5570 [==============================] - 20s 4ms/sample - loss: 0.6073 - op_cat_loss: 0.1048 - op_shape_loss: 0.5009 - op_cat_accuracy: 0.9585 - op_shape_accuracy: 0.8172\n",
      "Epoch 73/250\n",
      "5570/5570 [==============================] - 20s 4ms/sample - loss: 0.5639 - op_cat_loss: 0.1029 - op_shape_loss: 0.4627 - op_cat_accuracy: 0.9607 - op_shape_accuracy: 0.8366\n",
      "Epoch 74/250\n",
      "5570/5570 [==============================] - 20s 4ms/sample - loss: 0.5680 - op_cat_loss: 0.1356 - op_shape_loss: 0.4320 - op_cat_accuracy: 0.9472 - op_shape_accuracy: 0.8420\n",
      "Epoch 75/250\n",
      "5570/5570 [==============================] - 20s 4ms/sample - loss: 0.5527 - op_cat_loss: 0.1137 - op_shape_loss: 0.4372 - op_cat_accuracy: 0.9562 - op_shape_accuracy: 0.8418\n",
      "Epoch 76/250\n",
      "5570/5570 [==============================] - 20s 4ms/sample - loss: 0.5352 - op_cat_loss: 0.0891 - op_shape_loss: 0.4463 - op_cat_accuracy: 0.9662 - op_shape_accuracy: 0.8393\n",
      "Epoch 77/250\n",
      "5570/5570 [==============================] - 22s 4ms/sample - loss: 0.5267 - op_cat_loss: 0.0928 - op_shape_loss: 0.4333 - op_cat_accuracy: 0.9630 - op_shape_accuracy: 0.8422\n",
      "Epoch 78/250\n",
      "5570/5570 [==============================] - 20s 4ms/sample - loss: 0.5478 - op_cat_loss: 0.1109 - op_shape_loss: 0.4354 - op_cat_accuracy: 0.9567 - op_shape_accuracy: 0.8456\n",
      "Epoch 79/250\n",
      "5570/5570 [==============================] - 20s 4ms/sample - loss: 0.5154 - op_cat_loss: 0.0891 - op_shape_loss: 0.4261 - op_cat_accuracy: 0.9654 - op_shape_accuracy: 0.8445\n",
      "Epoch 80/250\n",
      "5570/5570 [==============================] - 20s 4ms/sample - loss: 0.5232 - op_cat_loss: 0.0919 - op_shape_loss: 0.4302 - op_cat_accuracy: 0.9652 - op_shape_accuracy: 0.8431\n",
      "Epoch 81/250\n",
      "5570/5570 [==============================] - 20s 4ms/sample - loss: 0.5624 - op_cat_loss: 0.1038 - op_shape_loss: 0.4603 - op_cat_accuracy: 0.9575 - op_shape_accuracy: 0.8382\n",
      "Epoch 82/250\n",
      "5570/5570 [==============================] - 20s 4ms/sample - loss: 0.5298 - op_cat_loss: 0.0920 - op_shape_loss: 0.4392 - op_cat_accuracy: 0.9625 - op_shape_accuracy: 0.8402\n",
      "Epoch 83/250\n",
      "5570/5570 [==============================] - 21s 4ms/sample - loss: 0.5564 - op_cat_loss: 0.1028 - op_shape_loss: 0.4531 - op_cat_accuracy: 0.9612 - op_shape_accuracy: 0.8330\n",
      "Epoch 84/250\n",
      "5570/5570 [==============================] - 20s 4ms/sample - loss: 0.5699 - op_cat_loss: 0.1271 - op_shape_loss: 0.4446 - op_cat_accuracy: 0.9483 - op_shape_accuracy: 0.8379\n",
      "Epoch 85/250\n",
      "5570/5570 [==============================] - 20s 4ms/sample - loss: 0.5789 - op_cat_loss: 0.1332 - op_shape_loss: 0.4465 - op_cat_accuracy: 0.9504 - op_shape_accuracy: 0.8332\n",
      "Epoch 86/250\n",
      "5570/5570 [==============================] - 20s 4ms/sample - loss: 0.6161 - op_cat_loss: 0.1686 - op_shape_loss: 0.4477 - op_cat_accuracy: 0.9339 - op_shape_accuracy: 0.8377\n",
      "Epoch 87/250\n",
      "5570/5570 [==============================] - 20s 4ms/sample - loss: 0.5351 - op_cat_loss: 0.1008 - op_shape_loss: 0.4342 - op_cat_accuracy: 0.9619 - op_shape_accuracy: 0.8483\n",
      "Epoch 88/250\n",
      "5570/5570 [==============================] - 20s 4ms/sample - loss: 0.5733 - op_cat_loss: 0.1659 - op_shape_loss: 0.4062 - op_cat_accuracy: 0.9370 - op_shape_accuracy: 0.8539\n",
      "Epoch 89/250\n",
      "5570/5570 [==============================] - 20s 4ms/sample - loss: 0.5495 - op_cat_loss: 0.1150 - op_shape_loss: 0.4342 - op_cat_accuracy: 0.9564 - op_shape_accuracy: 0.8429\n",
      "Epoch 90/250\n",
      "5570/5570 [==============================] - 20s 4ms/sample - loss: 0.5225 - op_cat_loss: 0.0998 - op_shape_loss: 0.4240 - op_cat_accuracy: 0.9621 - op_shape_accuracy: 0.8452\n",
      "Epoch 91/250\n",
      "5570/5570 [==============================] - 20s 4ms/sample - loss: 0.5244 - op_cat_loss: 0.1041 - op_shape_loss: 0.4174 - op_cat_accuracy: 0.9571 - op_shape_accuracy: 0.8513\n",
      "Epoch 92/250\n",
      "5570/5570 [==============================] - 20s 4ms/sample - loss: 0.4984 - op_cat_loss: 0.1029 - op_shape_loss: 0.3950 - op_cat_accuracy: 0.9600 - op_shape_accuracy: 0.8564\n",
      "Epoch 93/250\n",
      "5570/5570 [==============================] - 20s 4ms/sample - loss: 0.5152 - op_cat_loss: 0.0956 - op_shape_loss: 0.4197 - op_cat_accuracy: 0.9621 - op_shape_accuracy: 0.8503\n",
      "Epoch 94/250\n",
      "5570/5570 [==============================] - 20s 4ms/sample - loss: 0.5106 - op_cat_loss: 0.0840 - op_shape_loss: 0.4255 - op_cat_accuracy: 0.9661 - op_shape_accuracy: 0.8456\n",
      "Epoch 95/250\n",
      "5570/5570 [==============================] - 20s 4ms/sample - loss: 0.5232 - op_cat_loss: 0.0943 - op_shape_loss: 0.4260 - op_cat_accuracy: 0.9645 - op_shape_accuracy: 0.8418\n",
      "Epoch 96/250\n",
      "5570/5570 [==============================] - 20s 4ms/sample - loss: 0.5099 - op_cat_loss: 0.0873 - op_shape_loss: 0.4216 - op_cat_accuracy: 0.9679 - op_shape_accuracy: 0.8501\n",
      "Epoch 97/250\n",
      "5570/5570 [==============================] - 20s 4ms/sample - loss: 0.5476 - op_cat_loss: 0.1216 - op_shape_loss: 0.4259 - op_cat_accuracy: 0.9497 - op_shape_accuracy: 0.8474\n",
      "Epoch 98/250\n",
      "5570/5570 [==============================] - 20s 4ms/sample - loss: 0.5120 - op_cat_loss: 0.1088 - op_shape_loss: 0.4037 - op_cat_accuracy: 0.9594 - op_shape_accuracy: 0.8566\n",
      "Epoch 99/250\n",
      "5570/5570 [==============================] - 20s 4ms/sample - loss: 0.4904 - op_cat_loss: 0.0856 - op_shape_loss: 0.4027 - op_cat_accuracy: 0.9668 - op_shape_accuracy: 0.8557\n",
      "Epoch 100/250\n",
      "5570/5570 [==============================] - 20s 4ms/sample - loss: 0.5115 - op_cat_loss: 0.0953 - op_shape_loss: 0.4182 - op_cat_accuracy: 0.9630 - op_shape_accuracy: 0.8497\n",
      "Epoch 101/250\n",
      "5570/5570 [==============================] - 20s 4ms/sample - loss: 0.5304 - op_cat_loss: 0.1210 - op_shape_loss: 0.4114 - op_cat_accuracy: 0.9558 - op_shape_accuracy: 0.8512\n",
      "Epoch 102/250\n",
      "5570/5570 [==============================] - 20s 4ms/sample - loss: 0.5393 - op_cat_loss: 0.0938 - op_shape_loss: 0.4438 - op_cat_accuracy: 0.9648 - op_shape_accuracy: 0.8366\n",
      "Epoch 103/250\n",
      "5570/5570 [==============================] - 20s 4ms/sample - loss: 0.5644 - op_cat_loss: 0.1486 - op_shape_loss: 0.4201 - op_cat_accuracy: 0.9440 - op_shape_accuracy: 0.8501\n",
      "Epoch 104/250\n",
      "5570/5570 [==============================] - 20s 4ms/sample - loss: 0.4957 - op_cat_loss: 0.0884 - op_shape_loss: 0.4085 - op_cat_accuracy: 0.9641 - op_shape_accuracy: 0.8544\n",
      "Epoch 105/250\n",
      "5570/5570 [==============================] - 20s 4ms/sample - loss: 0.5126 - op_cat_loss: 0.0916 - op_shape_loss: 0.4211 - op_cat_accuracy: 0.9668 - op_shape_accuracy: 0.8496\n",
      "Epoch 106/250\n",
      "5570/5570 [==============================] - 20s 4ms/sample - loss: 0.5241 - op_cat_loss: 0.0915 - op_shape_loss: 0.4362 - op_cat_accuracy: 0.9668 - op_shape_accuracy: 0.8442\n",
      "Epoch 107/250\n",
      "5570/5570 [==============================] - 20s 4ms/sample - loss: 0.5042 - op_cat_loss: 0.0937 - op_shape_loss: 0.4099 - op_cat_accuracy: 0.9628 - op_shape_accuracy: 0.8531\n",
      "Epoch 108/250\n",
      "5570/5570 [==============================] - 20s 4ms/sample - loss: 0.4890 - op_cat_loss: 0.0726 - op_shape_loss: 0.4163 - op_cat_accuracy: 0.9707 - op_shape_accuracy: 0.8443\n",
      "Epoch 109/250\n",
      "5570/5570 [==============================] - 20s 4ms/sample - loss: 0.4872 - op_cat_loss: 0.0877 - op_shape_loss: 0.3996 - op_cat_accuracy: 0.9659 - op_shape_accuracy: 0.8544\n",
      "Epoch 110/250\n",
      "5570/5570 [==============================] - 20s 4ms/sample - loss: 0.5001 - op_cat_loss: 0.1086 - op_shape_loss: 0.3918 - op_cat_accuracy: 0.9560 - op_shape_accuracy: 0.8598\n",
      "Epoch 111/250\n",
      "5570/5570 [==============================] - 20s 4ms/sample - loss: 0.5143 - op_cat_loss: 0.1117 - op_shape_loss: 0.4031 - op_cat_accuracy: 0.9530 - op_shape_accuracy: 0.8583\n",
      "Epoch 112/250\n",
      "5570/5570 [==============================] - 20s 4ms/sample - loss: 0.4880 - op_cat_loss: 0.0874 - op_shape_loss: 0.4007 - op_cat_accuracy: 0.9630 - op_shape_accuracy: 0.8548\n",
      "Epoch 113/250\n",
      "5570/5570 [==============================] - 20s 4ms/sample - loss: 0.4938 - op_cat_loss: 0.0834 - op_shape_loss: 0.4108 - op_cat_accuracy: 0.9670 - op_shape_accuracy: 0.8506\n",
      "Epoch 114/250\n",
      "5570/5570 [==============================] - 20s 4ms/sample - loss: 0.4806 - op_cat_loss: 0.0785 - op_shape_loss: 0.4037 - op_cat_accuracy: 0.9695 - op_shape_accuracy: 0.8560\n",
      "Epoch 115/250\n",
      "5570/5570 [==============================] - 20s 4ms/sample - loss: 0.4713 - op_cat_loss: 0.0882 - op_shape_loss: 0.3838 - op_cat_accuracy: 0.9646 - op_shape_accuracy: 0.8614\n",
      "Epoch 116/250\n",
      "5570/5570 [==============================] - 21s 4ms/sample - loss: 0.4785 - op_cat_loss: 0.0820 - op_shape_loss: 0.3957 - op_cat_accuracy: 0.9679 - op_shape_accuracy: 0.8571\n",
      "Epoch 117/250\n",
      "5570/5570 [==============================] - 20s 4ms/sample - loss: 0.4714 - op_cat_loss: 0.0928 - op_shape_loss: 0.3819 - op_cat_accuracy: 0.9641 - op_shape_accuracy: 0.8652\n",
      "Epoch 118/250\n",
      "5570/5570 [==============================] - 20s 4ms/sample - loss: 0.5173 - op_cat_loss: 0.1119 - op_shape_loss: 0.4034 - op_cat_accuracy: 0.9603 - op_shape_accuracy: 0.8546\n",
      "Epoch 119/250\n",
      "5570/5570 [==============================] - 20s 4ms/sample - loss: 0.4771 - op_cat_loss: 0.0713 - op_shape_loss: 0.4068 - op_cat_accuracy: 0.9740 - op_shape_accuracy: 0.8549\n",
      "Epoch 120/250\n",
      "5570/5570 [==============================] - 20s 4ms/sample - loss: 0.4827 - op_cat_loss: 0.0740 - op_shape_loss: 0.4085 - op_cat_accuracy: 0.9707 - op_shape_accuracy: 0.8497\n",
      "Epoch 121/250\n",
      "5570/5570 [==============================] - 20s 4ms/sample - loss: 0.5108 - op_cat_loss: 0.1017 - op_shape_loss: 0.4073 - op_cat_accuracy: 0.9585 - op_shape_accuracy: 0.8548\n",
      "Epoch 122/250\n",
      "5570/5570 [==============================] - 21s 4ms/sample - loss: 0.4879 - op_cat_loss: 0.0804 - op_shape_loss: 0.4064 - op_cat_accuracy: 0.9700 - op_shape_accuracy: 0.8512\n",
      "Epoch 123/250\n",
      "5570/5570 [==============================] - 20s 4ms/sample - loss: 0.4800 - op_cat_loss: 0.0876 - op_shape_loss: 0.3938 - op_cat_accuracy: 0.9662 - op_shape_accuracy: 0.8557\n",
      "Epoch 124/250\n",
      "5570/5570 [==============================] - 20s 4ms/sample - loss: 0.4669 - op_cat_loss: 0.0719 - op_shape_loss: 0.3952 - op_cat_accuracy: 0.9722 - op_shape_accuracy: 0.8573\n",
      "Epoch 125/250\n",
      "5570/5570 [==============================] - 20s 4ms/sample - loss: 0.4704 - op_cat_loss: 0.0773 - op_shape_loss: 0.3922 - op_cat_accuracy: 0.9695 - op_shape_accuracy: 0.8598\n",
      "Epoch 126/250\n",
      "5570/5570 [==============================] - 20s 4ms/sample - loss: 0.4833 - op_cat_loss: 0.0783 - op_shape_loss: 0.4047 - op_cat_accuracy: 0.9689 - op_shape_accuracy: 0.8519\n",
      "Epoch 127/250\n",
      "5570/5570 [==============================] - 20s 4ms/sample - loss: 0.4455 - op_cat_loss: 0.0738 - op_shape_loss: 0.3705 - op_cat_accuracy: 0.9713 - op_shape_accuracy: 0.8671\n",
      "Epoch 128/250\n",
      "5570/5570 [==============================] - 21s 4ms/sample - loss: 0.4730 - op_cat_loss: 0.1032 - op_shape_loss: 0.3687 - op_cat_accuracy: 0.9583 - op_shape_accuracy: 0.8664\n",
      "Epoch 129/250\n",
      "5570/5570 [==============================] - 20s 4ms/sample - loss: 0.4705 - op_cat_loss: 0.0907 - op_shape_loss: 0.3790 - op_cat_accuracy: 0.9603 - op_shape_accuracy: 0.8618\n",
      "Epoch 130/250\n",
      "5570/5570 [==============================] - 20s 4ms/sample - loss: 0.4636 - op_cat_loss: 0.0912 - op_shape_loss: 0.3727 - op_cat_accuracy: 0.9639 - op_shape_accuracy: 0.8657\n",
      "Epoch 131/250\n",
      "5570/5570 [==============================] - 20s 4ms/sample - loss: 0.4888 - op_cat_loss: 0.0806 - op_shape_loss: 0.4067 - op_cat_accuracy: 0.9680 - op_shape_accuracy: 0.8496\n",
      "Epoch 132/250\n",
      "5570/5570 [==============================] - 20s 4ms/sample - loss: 0.5030 - op_cat_loss: 0.1001 - op_shape_loss: 0.4011 - op_cat_accuracy: 0.9600 - op_shape_accuracy: 0.8535\n",
      "Epoch 133/250\n",
      "5570/5570 [==============================] - 20s 4ms/sample - loss: 0.4611 - op_cat_loss: 0.0892 - op_shape_loss: 0.3707 - op_cat_accuracy: 0.9659 - op_shape_accuracy: 0.8688\n",
      "Epoch 134/250\n",
      "5570/5570 [==============================] - 20s 4ms/sample - loss: 0.4798 - op_cat_loss: 0.1134 - op_shape_loss: 0.3668 - op_cat_accuracy: 0.9533 - op_shape_accuracy: 0.8670\n",
      "Epoch 135/250\n",
      "5570/5570 [==============================] - 20s 4ms/sample - loss: 0.4832 - op_cat_loss: 0.1128 - op_shape_loss: 0.3733 - op_cat_accuracy: 0.9571 - op_shape_accuracy: 0.8610\n",
      "Epoch 136/250\n",
      "5570/5570 [==============================] - 20s 4ms/sample - loss: 0.5532 - op_cat_loss: 0.1761 - op_shape_loss: 0.3749 - op_cat_accuracy: 0.9314 - op_shape_accuracy: 0.8618\n",
      "Epoch 137/250\n",
      "5570/5570 [==============================] - 20s 4ms/sample - loss: 0.5008 - op_cat_loss: 0.1017 - op_shape_loss: 0.3976 - op_cat_accuracy: 0.9636 - op_shape_accuracy: 0.8549\n",
      "Epoch 138/250\n",
      "5570/5570 [==============================] - 20s 4ms/sample - loss: 0.4996 - op_cat_loss: 0.1010 - op_shape_loss: 0.3996 - op_cat_accuracy: 0.9612 - op_shape_accuracy: 0.8508\n",
      "Epoch 139/250\n",
      "5570/5570 [==============================] - 20s 4ms/sample - loss: 0.4981 - op_cat_loss: 0.1181 - op_shape_loss: 0.3813 - op_cat_accuracy: 0.9578 - op_shape_accuracy: 0.8605\n",
      "Epoch 140/250\n",
      "5570/5570 [==============================] - 20s 4ms/sample - loss: 0.4838 - op_cat_loss: 0.0937 - op_shape_loss: 0.3891 - op_cat_accuracy: 0.9654 - op_shape_accuracy: 0.8591\n",
      "Epoch 141/250\n",
      "5570/5570 [==============================] - 20s 4ms/sample - loss: 0.4271 - op_cat_loss: 0.0871 - op_shape_loss: 0.3404 - op_cat_accuracy: 0.9662 - op_shape_accuracy: 0.8743\n",
      "Epoch 142/250\n",
      "5570/5570 [==============================] - 20s 4ms/sample - loss: 0.4830 - op_cat_loss: 0.0792 - op_shape_loss: 0.4053 - op_cat_accuracy: 0.9724 - op_shape_accuracy: 0.8592\n",
      "Epoch 143/250\n",
      "5570/5570 [==============================] - 20s 4ms/sample - loss: 0.4773 - op_cat_loss: 0.0960 - op_shape_loss: 0.3814 - op_cat_accuracy: 0.9666 - op_shape_accuracy: 0.8621\n",
      "Epoch 144/250\n",
      "5570/5570 [==============================] - 20s 4ms/sample - loss: 0.4745 - op_cat_loss: 0.1048 - op_shape_loss: 0.3690 - op_cat_accuracy: 0.9592 - op_shape_accuracy: 0.8689\n",
      "Epoch 145/250\n",
      "5570/5570 [==============================] - 20s 4ms/sample - loss: 0.4834 - op_cat_loss: 0.1008 - op_shape_loss: 0.3826 - op_cat_accuracy: 0.9612 - op_shape_accuracy: 0.8600\n",
      "Epoch 146/250\n",
      "5570/5570 [==============================] - 20s 4ms/sample - loss: 0.4566 - op_cat_loss: 0.0745 - op_shape_loss: 0.3798 - op_cat_accuracy: 0.9729 - op_shape_accuracy: 0.8594\n",
      "Epoch 147/250\n",
      "5570/5570 [==============================] - 20s 4ms/sample - loss: 0.4515 - op_cat_loss: 0.0755 - op_shape_loss: 0.3751 - op_cat_accuracy: 0.9695 - op_shape_accuracy: 0.8634\n",
      "Epoch 148/250\n",
      "5570/5570 [==============================] - 20s 4ms/sample - loss: 0.4668 - op_cat_loss: 0.0963 - op_shape_loss: 0.3715 - op_cat_accuracy: 0.9601 - op_shape_accuracy: 0.8666\n",
      "Epoch 149/250\n",
      "5570/5570 [==============================] - 20s 4ms/sample - loss: 0.4830 - op_cat_loss: 0.1204 - op_shape_loss: 0.3619 - op_cat_accuracy: 0.9476 - op_shape_accuracy: 0.8704\n",
      "Epoch 150/250\n",
      "5570/5570 [==============================] - 20s 4ms/sample - loss: 0.4572 - op_cat_loss: 0.0936 - op_shape_loss: 0.3641 - op_cat_accuracy: 0.9634 - op_shape_accuracy: 0.8691\n",
      "Epoch 151/250\n",
      "5570/5570 [==============================] - 21s 4ms/sample - loss: 0.4345 - op_cat_loss: 0.0721 - op_shape_loss: 0.3611 - op_cat_accuracy: 0.9725 - op_shape_accuracy: 0.8704\n",
      "Epoch 152/250\n",
      "5570/5570 [==============================] - 21s 4ms/sample - loss: 0.4455 - op_cat_loss: 0.0972 - op_shape_loss: 0.3472 - op_cat_accuracy: 0.9630 - op_shape_accuracy: 0.8749\n",
      "Epoch 153/250\n",
      "5570/5570 [==============================] - 20s 4ms/sample - loss: 0.4800 - op_cat_loss: 0.1118 - op_shape_loss: 0.3677 - op_cat_accuracy: 0.9569 - op_shape_accuracy: 0.8664\n",
      "Epoch 154/250\n",
      "5570/5570 [==============================] - 20s 4ms/sample - loss: 0.4687 - op_cat_loss: 0.1005 - op_shape_loss: 0.3676 - op_cat_accuracy: 0.9605 - op_shape_accuracy: 0.8677\n",
      "Epoch 155/250\n",
      "5570/5570 [==============================] - 20s 4ms/sample - loss: 0.4335 - op_cat_loss: 0.0684 - op_shape_loss: 0.3650 - op_cat_accuracy: 0.9750 - op_shape_accuracy: 0.8677\n",
      "Epoch 156/250\n",
      "5570/5570 [==============================] - 20s 4ms/sample - loss: 0.4377 - op_cat_loss: 0.0699 - op_shape_loss: 0.3699 - op_cat_accuracy: 0.9702 - op_shape_accuracy: 0.8686\n",
      "Epoch 157/250\n",
      "5570/5570 [==============================] - 20s 4ms/sample - loss: 0.4462 - op_cat_loss: 0.0816 - op_shape_loss: 0.3644 - op_cat_accuracy: 0.9668 - op_shape_accuracy: 0.8713\n",
      "Epoch 158/250\n",
      "5570/5570 [==============================] - 20s 4ms/sample - loss: 0.4516 - op_cat_loss: 0.0930 - op_shape_loss: 0.3589 - op_cat_accuracy: 0.9695 - op_shape_accuracy: 0.8720\n",
      "Epoch 159/250\n",
      "5570/5570 [==============================] - 20s 4ms/sample - loss: 0.4287 - op_cat_loss: 0.0739 - op_shape_loss: 0.3548 - op_cat_accuracy: 0.9732 - op_shape_accuracy: 0.8736\n",
      "Epoch 160/250\n",
      "5570/5570 [==============================] - 20s 4ms/sample - loss: 0.4480 - op_cat_loss: 0.0949 - op_shape_loss: 0.3520 - op_cat_accuracy: 0.9609 - op_shape_accuracy: 0.8736\n",
      "Epoch 161/250\n",
      "5570/5570 [==============================] - 20s 4ms/sample - loss: 0.4140 - op_cat_loss: 0.0682 - op_shape_loss: 0.3487 - op_cat_accuracy: 0.9732 - op_shape_accuracy: 0.8750\n",
      "Epoch 162/250\n",
      "5570/5570 [==============================] - 20s 4ms/sample - loss: 0.4233 - op_cat_loss: 0.0752 - op_shape_loss: 0.3497 - op_cat_accuracy: 0.9722 - op_shape_accuracy: 0.8752\n",
      "Epoch 163/250\n",
      "5570/5570 [==============================] - 20s 4ms/sample - loss: 0.4462 - op_cat_loss: 0.1006 - op_shape_loss: 0.3456 - op_cat_accuracy: 0.9627 - op_shape_accuracy: 0.8745\n",
      "Epoch 164/250\n",
      "5570/5570 [==============================] - 21s 4ms/sample - loss: 0.4383 - op_cat_loss: 0.0740 - op_shape_loss: 0.3626 - op_cat_accuracy: 0.9709 - op_shape_accuracy: 0.8688\n",
      "Epoch 165/250\n",
      "5570/5570 [==============================] - 20s 4ms/sample - loss: 0.4428 - op_cat_loss: 0.0894 - op_shape_loss: 0.3519 - op_cat_accuracy: 0.9641 - op_shape_accuracy: 0.8743\n",
      "Epoch 166/250\n",
      "5570/5570 [==============================] - 20s 4ms/sample - loss: 0.4212 - op_cat_loss: 0.0630 - op_shape_loss: 0.3576 - op_cat_accuracy: 0.9759 - op_shape_accuracy: 0.8709\n",
      "Epoch 167/250\n",
      "5570/5570 [==============================] - 20s 4ms/sample - loss: 0.4187 - op_cat_loss: 0.0755 - op_shape_loss: 0.3423 - op_cat_accuracy: 0.9711 - op_shape_accuracy: 0.8767\n",
      "Epoch 168/250\n",
      "5570/5570 [==============================] - 21s 4ms/sample - loss: 0.4273 - op_cat_loss: 0.0667 - op_shape_loss: 0.3635 - op_cat_accuracy: 0.9747 - op_shape_accuracy: 0.8671\n",
      "Epoch 169/250\n",
      "5570/5570 [==============================] - 20s 4ms/sample - loss: 0.4513 - op_cat_loss: 0.0754 - op_shape_loss: 0.3741 - op_cat_accuracy: 0.9709 - op_shape_accuracy: 0.8655\n",
      "Epoch 170/250\n",
      "5570/5570 [==============================] - 20s 4ms/sample - loss: 0.3914 - op_cat_loss: 0.0634 - op_shape_loss: 0.3300 - op_cat_accuracy: 0.9752 - op_shape_accuracy: 0.8833\n",
      "Epoch 171/250\n",
      "5570/5570 [==============================] - 20s 4ms/sample - loss: 0.4581 - op_cat_loss: 0.0893 - op_shape_loss: 0.3689 - op_cat_accuracy: 0.9657 - op_shape_accuracy: 0.8661\n",
      "Epoch 172/250\n",
      "5570/5570 [==============================] - 20s 4ms/sample - loss: 0.4360 - op_cat_loss: 0.1093 - op_shape_loss: 0.3271 - op_cat_accuracy: 0.9531 - op_shape_accuracy: 0.8837\n",
      "Epoch 173/250\n",
      "5570/5570 [==============================] - 20s 4ms/sample - loss: 0.4494 - op_cat_loss: 0.0923 - op_shape_loss: 0.3573 - op_cat_accuracy: 0.9662 - op_shape_accuracy: 0.8722\n",
      "Epoch 174/250\n",
      "5570/5570 [==============================] - 20s 4ms/sample - loss: 0.4416 - op_cat_loss: 0.0614 - op_shape_loss: 0.3814 - op_cat_accuracy: 0.9763 - op_shape_accuracy: 0.8652\n",
      "Epoch 175/250\n",
      "5570/5570 [==============================] - 20s 4ms/sample - loss: 0.4144 - op_cat_loss: 0.0660 - op_shape_loss: 0.3473 - op_cat_accuracy: 0.9745 - op_shape_accuracy: 0.8716\n",
      "Epoch 176/250\n",
      "5570/5570 [==============================] - 20s 4ms/sample - loss: 0.3890 - op_cat_loss: 0.0651 - op_shape_loss: 0.3229 - op_cat_accuracy: 0.9759 - op_shape_accuracy: 0.8806\n",
      "Epoch 177/250\n",
      "5570/5570 [==============================] - 20s 4ms/sample - loss: 0.4248 - op_cat_loss: 0.0891 - op_shape_loss: 0.3355 - op_cat_accuracy: 0.9682 - op_shape_accuracy: 0.8833\n",
      "Epoch 178/250\n",
      "5570/5570 [==============================] - 20s 4ms/sample - loss: 0.3854 - op_cat_loss: 0.0620 - op_shape_loss: 0.3222 - op_cat_accuracy: 0.9770 - op_shape_accuracy: 0.8828\n",
      "Epoch 179/250\n",
      "5570/5570 [==============================] - 20s 4ms/sample - loss: 0.3929 - op_cat_loss: 0.0738 - op_shape_loss: 0.3203 - op_cat_accuracy: 0.9727 - op_shape_accuracy: 0.8849\n",
      "Epoch 180/250\n",
      "5570/5570 [==============================] - 20s 4ms/sample - loss: 0.4211 - op_cat_loss: 0.0872 - op_shape_loss: 0.3334 - op_cat_accuracy: 0.9664 - op_shape_accuracy: 0.8768\n",
      "Epoch 181/250\n",
      "5570/5570 [==============================] - 20s 4ms/sample - loss: 0.4624 - op_cat_loss: 0.0727 - op_shape_loss: 0.3902 - op_cat_accuracy: 0.9715 - op_shape_accuracy: 0.8587\n",
      "Epoch 182/250\n",
      "5570/5570 [==============================] - 20s 4ms/sample - loss: 0.4361 - op_cat_loss: 0.0673 - op_shape_loss: 0.3679 - op_cat_accuracy: 0.9752 - op_shape_accuracy: 0.8682\n",
      "Epoch 183/250\n",
      "5570/5570 [==============================] - 20s 4ms/sample - loss: 0.4583 - op_cat_loss: 0.1068 - op_shape_loss: 0.3522 - op_cat_accuracy: 0.9589 - op_shape_accuracy: 0.8722\n",
      "Epoch 184/250\n",
      "5570/5570 [==============================] - 20s 4ms/sample - loss: 0.4452 - op_cat_loss: 0.0756 - op_shape_loss: 0.3693 - op_cat_accuracy: 0.9715 - op_shape_accuracy: 0.8684\n",
      "Epoch 185/250\n",
      "5570/5570 [==============================] - 20s 4ms/sample - loss: 0.4161 - op_cat_loss: 0.0923 - op_shape_loss: 0.3247 - op_cat_accuracy: 0.9645 - op_shape_accuracy: 0.8838\n",
      "Epoch 186/250\n",
      "5570/5570 [==============================] - 20s 4ms/sample - loss: 0.4394 - op_cat_loss: 0.1010 - op_shape_loss: 0.3403 - op_cat_accuracy: 0.9625 - op_shape_accuracy: 0.8779\n",
      "Epoch 187/250\n",
      "5570/5570 [==============================] - 20s 4ms/sample - loss: 0.3930 - op_cat_loss: 0.0855 - op_shape_loss: 0.3061 - op_cat_accuracy: 0.9646 - op_shape_accuracy: 0.8896\n",
      "Epoch 188/250\n",
      "5570/5570 [==============================] - 20s 4ms/sample - loss: 0.3913 - op_cat_loss: 0.0724 - op_shape_loss: 0.3183 - op_cat_accuracy: 0.9713 - op_shape_accuracy: 0.8835\n",
      "Epoch 189/250\n",
      "5570/5570 [==============================] - 20s 4ms/sample - loss: 0.4032 - op_cat_loss: 0.0800 - op_shape_loss: 0.3219 - op_cat_accuracy: 0.9680 - op_shape_accuracy: 0.8829\n",
      "Epoch 190/250\n",
      "5570/5570 [==============================] - 20s 4ms/sample - loss: 0.4185 - op_cat_loss: 0.0672 - op_shape_loss: 0.3498 - op_cat_accuracy: 0.9724 - op_shape_accuracy: 0.8725\n",
      "Epoch 191/250\n",
      "5570/5570 [==============================] - 20s 4ms/sample - loss: 0.4222 - op_cat_loss: 0.0809 - op_shape_loss: 0.3416 - op_cat_accuracy: 0.9673 - op_shape_accuracy: 0.8750\n",
      "Epoch 192/250\n",
      "5570/5570 [==============================] - 21s 4ms/sample - loss: 0.3979 - op_cat_loss: 0.0728 - op_shape_loss: 0.3267 - op_cat_accuracy: 0.9715 - op_shape_accuracy: 0.8810\n",
      "Epoch 193/250\n",
      "5570/5570 [==============================] - 21s 4ms/sample - loss: 0.4574 - op_cat_loss: 0.0767 - op_shape_loss: 0.3828 - op_cat_accuracy: 0.9732 - op_shape_accuracy: 0.8630\n",
      "Epoch 194/250\n",
      "5570/5570 [==============================] - 20s 4ms/sample - loss: 0.4116 - op_cat_loss: 0.0771 - op_shape_loss: 0.3353 - op_cat_accuracy: 0.9704 - op_shape_accuracy: 0.8795\n",
      "Epoch 195/250\n",
      "5570/5570 [==============================] - 20s 4ms/sample - loss: 0.3966 - op_cat_loss: 0.0692 - op_shape_loss: 0.3283 - op_cat_accuracy: 0.9716 - op_shape_accuracy: 0.8849\n",
      "Epoch 196/250\n",
      "5570/5570 [==============================] - 20s 4ms/sample - loss: 0.4293 - op_cat_loss: 0.0841 - op_shape_loss: 0.3439 - op_cat_accuracy: 0.9668 - op_shape_accuracy: 0.8768\n",
      "Epoch 197/250\n",
      "5570/5570 [==============================] - 20s 4ms/sample - loss: 0.3824 - op_cat_loss: 0.0615 - op_shape_loss: 0.3210 - op_cat_accuracy: 0.9754 - op_shape_accuracy: 0.8794\n",
      "Epoch 198/250\n",
      "5570/5570 [==============================] - 20s 4ms/sample - loss: 0.3917 - op_cat_loss: 0.0714 - op_shape_loss: 0.3200 - op_cat_accuracy: 0.9731 - op_shape_accuracy: 0.8878\n",
      "Epoch 199/250\n",
      "5570/5570 [==============================] - 20s 4ms/sample - loss: 0.4049 - op_cat_loss: 0.0697 - op_shape_loss: 0.3365 - op_cat_accuracy: 0.9720 - op_shape_accuracy: 0.8776\n",
      "Epoch 200/250\n",
      "5570/5570 [==============================] - 20s 4ms/sample - loss: 0.4197 - op_cat_loss: 0.0770 - op_shape_loss: 0.3410 - op_cat_accuracy: 0.9706 - op_shape_accuracy: 0.8795\n",
      "Epoch 201/250\n",
      "5570/5570 [==============================] - 20s 4ms/sample - loss: 0.3599 - op_cat_loss: 0.0743 - op_shape_loss: 0.2871 - op_cat_accuracy: 0.9706 - op_shape_accuracy: 0.8982\n",
      "Epoch 202/250\n",
      "5570/5570 [==============================] - 20s 4ms/sample - loss: 0.3985 - op_cat_loss: 0.1030 - op_shape_loss: 0.2953 - op_cat_accuracy: 0.9614 - op_shape_accuracy: 0.8966\n",
      "Epoch 203/250\n",
      "5570/5570 [==============================] - 20s 4ms/sample - loss: 0.3615 - op_cat_loss: 0.0639 - op_shape_loss: 0.2992 - op_cat_accuracy: 0.9754 - op_shape_accuracy: 0.8959\n",
      "Epoch 204/250\n",
      "5570/5570 [==============================] - 20s 4ms/sample - loss: 0.3965 - op_cat_loss: 0.0533 - op_shape_loss: 0.3429 - op_cat_accuracy: 0.9781 - op_shape_accuracy: 0.8759\n",
      "Epoch 205/250\n",
      "5570/5570 [==============================] - 21s 4ms/sample - loss: 0.3675 - op_cat_loss: 0.0602 - op_shape_loss: 0.3076 - op_cat_accuracy: 0.9752 - op_shape_accuracy: 0.8878\n",
      "Epoch 206/250\n",
      "5570/5570 [==============================] - 20s 4ms/sample - loss: 0.3570 - op_cat_loss: 0.0591 - op_shape_loss: 0.2981 - op_cat_accuracy: 0.9749 - op_shape_accuracy: 0.8930\n",
      "Epoch 207/250\n",
      "5570/5570 [==============================] - 20s 4ms/sample - loss: 0.3919 - op_cat_loss: 0.0912 - op_shape_loss: 0.3002 - op_cat_accuracy: 0.9652 - op_shape_accuracy: 0.8919\n",
      "Epoch 208/250\n",
      "5570/5570 [==============================] - 20s 4ms/sample - loss: 0.4060 - op_cat_loss: 0.0842 - op_shape_loss: 0.3225 - op_cat_accuracy: 0.9677 - op_shape_accuracy: 0.8801\n",
      "Epoch 209/250\n",
      "5570/5570 [==============================] - 20s 4ms/sample - loss: 0.4622 - op_cat_loss: 0.1282 - op_shape_loss: 0.3322 - op_cat_accuracy: 0.9483 - op_shape_accuracy: 0.8783\n",
      "Epoch 210/250\n",
      "5570/5570 [==============================] - 20s 4ms/sample - loss: 0.3786 - op_cat_loss: 0.0852 - op_shape_loss: 0.2932 - op_cat_accuracy: 0.9662 - op_shape_accuracy: 0.8944\n",
      "Epoch 211/250\n",
      "5570/5570 [==============================] - 20s 4ms/sample - loss: 0.3807 - op_cat_loss: 0.0775 - op_shape_loss: 0.3034 - op_cat_accuracy: 0.9716 - op_shape_accuracy: 0.8869\n",
      "Epoch 212/250\n",
      "5570/5570 [==============================] - 20s 4ms/sample - loss: 0.4316 - op_cat_loss: 0.0740 - op_shape_loss: 0.3573 - op_cat_accuracy: 0.9702 - op_shape_accuracy: 0.8700\n",
      "Epoch 213/250\n",
      "5570/5570 [==============================] - 20s 4ms/sample - loss: 0.4166 - op_cat_loss: 0.0660 - op_shape_loss: 0.3495 - op_cat_accuracy: 0.9759 - op_shape_accuracy: 0.8756\n",
      "Epoch 214/250\n",
      "5570/5570 [==============================] - 20s 4ms/sample - loss: 0.4096 - op_cat_loss: 0.0965 - op_shape_loss: 0.3144 - op_cat_accuracy: 0.9646 - op_shape_accuracy: 0.8880\n",
      "Epoch 215/250\n",
      "5570/5570 [==============================] - 20s 4ms/sample - loss: 0.3696 - op_cat_loss: 0.0828 - op_shape_loss: 0.2864 - op_cat_accuracy: 0.9686 - op_shape_accuracy: 0.8962\n",
      "Epoch 216/250\n",
      "5570/5570 [==============================] - 20s 4ms/sample - loss: 0.4117 - op_cat_loss: 0.0718 - op_shape_loss: 0.3405 - op_cat_accuracy: 0.9718 - op_shape_accuracy: 0.8799\n",
      "Epoch 217/250\n",
      "5570/5570 [==============================] - 20s 4ms/sample - loss: 0.3870 - op_cat_loss: 0.0582 - op_shape_loss: 0.3305 - op_cat_accuracy: 0.9772 - op_shape_accuracy: 0.8842\n",
      "Epoch 218/250\n",
      "5570/5570 [==============================] - 20s 4ms/sample - loss: 0.4080 - op_cat_loss: 0.0552 - op_shape_loss: 0.3518 - op_cat_accuracy: 0.9770 - op_shape_accuracy: 0.8741\n",
      "Epoch 219/250\n",
      "5570/5570 [==============================] - 20s 4ms/sample - loss: 0.3691 - op_cat_loss: 0.0653 - op_shape_loss: 0.3028 - op_cat_accuracy: 0.9749 - op_shape_accuracy: 0.8890\n",
      "Epoch 220/250\n",
      "5570/5570 [==============================] - 20s 4ms/sample - loss: 0.4017 - op_cat_loss: 0.0679 - op_shape_loss: 0.3335 - op_cat_accuracy: 0.9727 - op_shape_accuracy: 0.8772\n",
      "Epoch 221/250\n",
      "5570/5570 [==============================] - 20s 4ms/sample - loss: 0.3672 - op_cat_loss: 0.0874 - op_shape_loss: 0.2781 - op_cat_accuracy: 0.9670 - op_shape_accuracy: 0.8975\n",
      "Epoch 222/250\n",
      "5570/5570 [==============================] - 20s 4ms/sample - loss: 0.3767 - op_cat_loss: 0.0797 - op_shape_loss: 0.2967 - op_cat_accuracy: 0.9684 - op_shape_accuracy: 0.8952\n",
      "Epoch 223/250\n",
      "5570/5570 [==============================] - 20s 4ms/sample - loss: 0.4197 - op_cat_loss: 0.1236 - op_shape_loss: 0.2968 - op_cat_accuracy: 0.9513 - op_shape_accuracy: 0.8928\n",
      "Epoch 224/250\n",
      "5570/5570 [==============================] - 20s 4ms/sample - loss: 0.4130 - op_cat_loss: 0.1153 - op_shape_loss: 0.2986 - op_cat_accuracy: 0.9589 - op_shape_accuracy: 0.8916\n",
      "Epoch 225/250\n",
      "5570/5570 [==============================] - 20s 4ms/sample - loss: 0.3737 - op_cat_loss: 0.0817 - op_shape_loss: 0.2921 - op_cat_accuracy: 0.9668 - op_shape_accuracy: 0.8921\n",
      "Epoch 226/250\n",
      "5570/5570 [==============================] - 20s 4ms/sample - loss: 0.3693 - op_cat_loss: 0.0713 - op_shape_loss: 0.2977 - op_cat_accuracy: 0.9725 - op_shape_accuracy: 0.8919\n",
      "Epoch 227/250\n",
      "5570/5570 [==============================] - 20s 4ms/sample - loss: 0.3641 - op_cat_loss: 0.0698 - op_shape_loss: 0.2938 - op_cat_accuracy: 0.9725 - op_shape_accuracy: 0.8892\n",
      "Epoch 228/250\n",
      "5570/5570 [==============================] - 20s 4ms/sample - loss: 0.3429 - op_cat_loss: 0.0614 - op_shape_loss: 0.2800 - op_cat_accuracy: 0.9776 - op_shape_accuracy: 0.8971\n",
      "Epoch 229/250\n",
      "5570/5570 [==============================] - 20s 4ms/sample - loss: 0.4022 - op_cat_loss: 0.0688 - op_shape_loss: 0.3341 - op_cat_accuracy: 0.9727 - op_shape_accuracy: 0.8770\n",
      "Epoch 230/250\n",
      "5570/5570 [==============================] - 20s 4ms/sample - loss: 0.3754 - op_cat_loss: 0.0682 - op_shape_loss: 0.3064 - op_cat_accuracy: 0.9745 - op_shape_accuracy: 0.8885\n",
      "Epoch 231/250\n",
      "5570/5570 [==============================] - 20s 4ms/sample - loss: 0.3848 - op_cat_loss: 0.0901 - op_shape_loss: 0.2957 - op_cat_accuracy: 0.9655 - op_shape_accuracy: 0.8961\n",
      "Epoch 232/250\n",
      "5570/5570 [==============================] - 20s 4ms/sample - loss: 0.3602 - op_cat_loss: 0.0792 - op_shape_loss: 0.2837 - op_cat_accuracy: 0.9697 - op_shape_accuracy: 0.9011\n",
      "Epoch 233/250\n",
      "5570/5570 [==============================] - 20s 4ms/sample - loss: 0.3526 - op_cat_loss: 0.0695 - op_shape_loss: 0.2833 - op_cat_accuracy: 0.9715 - op_shape_accuracy: 0.8977\n",
      "Epoch 234/250\n",
      "5570/5570 [==============================] - 20s 4ms/sample - loss: 0.3650 - op_cat_loss: 0.0605 - op_shape_loss: 0.3034 - op_cat_accuracy: 0.9768 - op_shape_accuracy: 0.8923\n",
      "Epoch 235/250\n",
      "5570/5570 [==============================] - 20s 4ms/sample - loss: 0.3774 - op_cat_loss: 0.0717 - op_shape_loss: 0.3110 - op_cat_accuracy: 0.9720 - op_shape_accuracy: 0.8855\n",
      "Epoch 236/250\n",
      "5570/5570 [==============================] - 20s 4ms/sample - loss: 0.4306 - op_cat_loss: 0.0670 - op_shape_loss: 0.3630 - op_cat_accuracy: 0.9759 - op_shape_accuracy: 0.8643\n",
      "Epoch 237/250\n",
      "5570/5570 [==============================] - 20s 4ms/sample - loss: 0.3578 - op_cat_loss: 0.0540 - op_shape_loss: 0.3031 - op_cat_accuracy: 0.9776 - op_shape_accuracy: 0.8935\n",
      "Epoch 238/250\n",
      "5570/5570 [==============================] - 20s 4ms/sample - loss: 0.3570 - op_cat_loss: 0.0733 - op_shape_loss: 0.2851 - op_cat_accuracy: 0.9724 - op_shape_accuracy: 0.8957\n",
      "Epoch 239/250\n",
      "5570/5570 [==============================] - 20s 4ms/sample - loss: 0.3758 - op_cat_loss: 0.0621 - op_shape_loss: 0.3130 - op_cat_accuracy: 0.9738 - op_shape_accuracy: 0.8873\n",
      "Epoch 240/250\n",
      "5570/5570 [==============================] - 20s 4ms/sample - loss: 0.3552 - op_cat_loss: 0.0740 - op_shape_loss: 0.2803 - op_cat_accuracy: 0.9707 - op_shape_accuracy: 0.8984\n",
      "Epoch 241/250\n",
      "5570/5570 [==============================] - 20s 4ms/sample - loss: 0.3599 - op_cat_loss: 0.0682 - op_shape_loss: 0.2923 - op_cat_accuracy: 0.9747 - op_shape_accuracy: 0.8969\n",
      "Epoch 242/250\n",
      "5570/5570 [==============================] - 20s 4ms/sample - loss: 0.3693 - op_cat_loss: 0.0531 - op_shape_loss: 0.3159 - op_cat_accuracy: 0.9803 - op_shape_accuracy: 0.8919\n",
      "Epoch 243/250\n",
      "5570/5570 [==============================] - 20s 4ms/sample - loss: 0.4137 - op_cat_loss: 0.1019 - op_shape_loss: 0.3118 - op_cat_accuracy: 0.9589 - op_shape_accuracy: 0.8849\n",
      "Epoch 244/250\n",
      "5570/5570 [==============================] - 20s 4ms/sample - loss: 0.3272 - op_cat_loss: 0.0581 - op_shape_loss: 0.2724 - op_cat_accuracy: 0.9792 - op_shape_accuracy: 0.9005\n",
      "Epoch 245/250\n",
      "5570/5570 [==============================] - 20s 4ms/sample - loss: 0.3674 - op_cat_loss: 0.0944 - op_shape_loss: 0.2740 - op_cat_accuracy: 0.9621 - op_shape_accuracy: 0.9002\n",
      "Epoch 246/250\n",
      "5570/5570 [==============================] - 20s 4ms/sample - loss: 0.3146 - op_cat_loss: 0.0515 - op_shape_loss: 0.2635 - op_cat_accuracy: 0.9794 - op_shape_accuracy: 0.9074\n",
      "Epoch 247/250\n",
      "5570/5570 [==============================] - 20s 4ms/sample - loss: 0.3464 - op_cat_loss: 0.0615 - op_shape_loss: 0.2855 - op_cat_accuracy: 0.9758 - op_shape_accuracy: 0.8986\n",
      "Epoch 248/250\n",
      "5570/5570 [==============================] - 20s 4ms/sample - loss: 0.3548 - op_cat_loss: 0.0540 - op_shape_loss: 0.3010 - op_cat_accuracy: 0.9767 - op_shape_accuracy: 0.8908\n",
      "Epoch 249/250\n",
      "5570/5570 [==============================] - 20s 4ms/sample - loss: 0.3753 - op_cat_loss: 0.0737 - op_shape_loss: 0.3012 - op_cat_accuracy: 0.9750 - op_shape_accuracy: 0.8919\n",
      "Epoch 250/250\n",
      "5570/5570 [==============================] - 20s 4ms/sample - loss: 0.3556 - op_cat_loss: 0.0845 - op_shape_loss: 0.2700 - op_cat_accuracy: 0.9720 - op_shape_accuracy: 0.9038\n"
     ]
    }
   ],
   "source": [
    "history= model.fit(features,{'op_cat':parent_cat['parent_category'],'op_shape':frame_shape['frame_shape']},\n",
    "          epochs=250, batch_size=128,verbose=1)"
   ]
  },
  {
   "cell_type": "code",
   "execution_count": 180,
   "metadata": {},
   "outputs": [
    {
     "name": "stdout",
     "output_type": "stream",
     "text": [
      "dict_keys(['loss', 'op_cat_loss', 'op_shape_loss', 'op_cat_accuracy', 'op_shape_accuracy'])\n"
     ]
    }
   ],
   "source": [
    "print(history.history.keys())"
   ]
  },
  {
   "cell_type": "code",
   "execution_count": 202,
   "metadata": {},
   "outputs": [
    {
     "data": {
      "image/png": "[encoded data removed]",
      "text/plain": [
       "<Figure size 1440x432 with 4 Axes>"
      ]
     },
     "metadata": {},
     "output_type": "display_data"
    }
   ],
   "source": [
    "\n",
    "plt.figure(figsize=[20,6])\n",
    "plt.style.use('seaborn')\n",
    "plt.subplot(1, 4, 1)\n",
    "plt.plot(history.history['op_cat_accuracy'])\n",
    "plt.ylabel('op_cat_accuracy',size=15)\n",
    "plt.xlabel('Epochs',size=15)\n",
    "plt.subplot(1, 4, 2)\n",
    "plt.plot(history.history['op_shape_accuracy'])\n",
    "plt.ylabel('op_shape_accuracy',size=15)\n",
    "plt.xlabel('Epochs',size=15)\n",
    "plt.subplot(1, 4, 3)\n",
    "plt.plot(history.history['op_shape_loss'])\n",
    "plt.ylabel('op_shape_loss',size=15)\n",
    "plt.xlabel('Epochs',size=15)\n",
    "plt.subplot(1, 4, 4)\n",
    "plt.plot(history.history['op_cat_loss'])\n",
    "plt.xlabel('Epochs',size=15)\n",
    "plt.ylabel('op_cat_loss',size=15)\n",
    "plt.legend\n",
    "plt.show()"
   ]
  },
  {
   "cell_type": "code",
   "execution_count": null,
   "metadata": {},
   "outputs": [],
   "source": []
  },
  {
   "cell_type": "code",
   "execution_count": 210,
   "metadata": {},
   "outputs": [
    {
     "name": "stdout",
     "output_type": "stream",
     "text": [
      "Saved model to disk\n"
     ]
    }
   ],
   "source": [
    "model_json = model.to_json()\n",
    "with open(r\"C:\\Users\\Kartikay\\Desktop\\DS Work\\Lenskart\\model.json\", \"w\") as json_file:\n",
    "    json_file.write(model_json)\n",
    "# serialize weights to HDF5\n",
    "model.save_weights(r\"C:\\Users\\Kartikay\\Desktop\\DS Work\\Lenskart\\model.h5\")\n",
    "print(\"Saved model to disk\")\n",
    "\n"
   ]
  },
  {
   "cell_type": "code",
   "execution_count": 62,
   "metadata": {},
   "outputs": [],
   "source": [
    "from tensorflow.keras.models import model_from_json"
   ]
  },
  {
   "cell_type": "code",
   "execution_count": 63,
   "metadata": {},
   "outputs": [
    {
     "name": "stdout",
     "output_type": "stream",
     "text": [
      "Loaded model from disk\n"
     ]
    }
   ],
   "source": [
    "json_file = open(r'C:\\Users\\Kartikay\\Desktop\\DS Work\\Lenskart\\model.json', 'r')\n",
    "loaded_model_json = json_file.read()\n",
    "json_file.close()\n",
    "loaded_model =model_from_json(loaded_model_json)\n",
    "# load weights into new model\n",
    "loaded_model.load_weights(r\"C:\\Users\\Kartikay\\Desktop\\DS Work\\Lenskart\\model.h5\")\n",
    "print(\"Loaded model from disk\")"
   ]
  },
  {
   "cell_type": "code",
   "execution_count": 64,
   "metadata": {},
   "outputs": [
    {
     "data": {
      "application/vnd.jupyter.widget-view+json": {
       "model_id": "3910ee15c2fa4bc1b3129b7db23f0414",
       "version_major": 2,
       "version_minor": 0
      },
      "text/plain": [
       "FileUpload(value={}, description='Upload')"
      ]
     },
     "metadata": {},
     "output_type": "display_data"
    }
   ],
   "source": [
    "widgets.FileUpload(\n",
    "    accept='',  # Accepted file extension e.g. '.txt', '.pdf', 'image/*', 'image/*,.pdf'\n",
    "    multiple=False  # True to accept multiple files upload else False\n",
    ")"
   ]
  },
  {
   "cell_type": "code",
   "execution_count": 65,
   "metadata": {},
   "outputs": [
    {
     "data": {
      "application/vnd.jupyter.widget-view+json": {
       "model_id": "a8cd63fde0454fdf898350b16ab7288f",
       "version_major": 2,
       "version_minor": 0
      },
      "text/plain": [
       "FileUpload(value={}, description='Upload')"
      ]
     },
     "metadata": {},
     "output_type": "display_data"
    }
   ],
   "source": [
    "uploader = widgets.FileUpload()\n",
    "display(uploader)"
   ]
  },
  {
   "cell_type": "code",
   "execution_count": 66,
   "metadata": {
    "scrolled": true
   },
   "outputs": [
    {
     "data": {
      "image/png": "[encoded data removed]",
      "text/plain": [
       "<PIL.Image.Image image mode=RGB size=224x224 at 0x1B7687DD948>"
      ]
     },
     "execution_count": 66,
     "metadata": {},
     "output_type": "execute_result"
    }
   ],
   "source": [
    "for name, file_info in uploader.value.items():\n",
    "    img_upld = Image.open(io.BytesIO(file_info['content'])).resize((224,224))\n",
    "img_upld"
   ]
  },
  {
   "cell_type": "code",
   "execution_count": 67,
   "metadata": {},
   "outputs": [],
   "source": [
    "import ipywidgets as widgets\n",
    "from PIL import Image\n",
    "from urllib import request\n",
    "from io import BytesIO\n",
    "import io\n",
    "img_upld= img_to_array(img_upld)\n",
    "img_upld = img_upld/255.0\n",
    "#img = np.array(img)\n",
    "img_upld = np.expand_dims(img_upld, axis=0)\n",
    "feat_upld=modelv.predict(preprocess_input(img_upld))\n",
    "feat_upld=feat_upld.flatten()"
   ]
  },
  {
   "cell_type": "code",
   "execution_count": 68,
   "metadata": {},
   "outputs": [
    {
     "data": {
      "text/plain": [
       "(25088,)"
      ]
     },
     "execution_count": 68,
     "metadata": {},
     "output_type": "execute_result"
    }
   ],
   "source": [
    "feat_upld.shape"
   ]
  },
  {
   "cell_type": "code",
   "execution_count": 69,
   "metadata": {},
   "outputs": [
    {
     "data": {
      "text/plain": [
       "[array([[9.7966695e-01, 2.0055545e-02, 2.7753721e-04]], dtype=float32),\n",
       " array([[8.525079e-04, 1.164387e-03, 9.939230e-01, 4.060174e-03]],\n",
       "       dtype=float32)]"
      ]
     },
     "execution_count": 69,
     "metadata": {},
     "output_type": "execute_result"
    }
   ],
   "source": [
    "index=loaded_model.predict(feat_upld.reshape(1,7,7,512))\n",
    "index"
   ]
  },
  {
   "cell_type": "code",
   "execution_count": 70,
   "metadata": {},
   "outputs": [
    {
     "name": "stdout",
     "output_type": "stream",
     "text": [
      "The parent category of the frame is :  Non-Power Reading\n",
      "The shape of the frame is :  Rectangle\n"
     ]
    }
   ],
   "source": [
    "x=[]\n",
    "for i in index:\n",
    "    x.append(np.argmax(i))\n",
    "print('The parent category of the frame is : ', cat_dict[x[0]])\n",
    "print('The shape of the frame is : ', shap_dict[x[1]])   "
   ]
  },
  {
   "cell_type": "code",
   "execution_count": 71,
   "metadata": {},
   "outputs": [
    {
     "data": {
      "text/html": [
       "<div>\n",
       "<style scoped>\n",
       "    .dataframe tbody tr th:only-of-type {\n",
       "        vertical-align: middle;\n",
       "    }\n",
       "\n",
       "    .dataframe tbody tr th {\n",
       "        vertical-align: top;\n",
       "    }\n",
       "\n",
       "    .dataframe thead th {\n",
       "        text-align: right;\n",
       "    }\n",
       "</style>\n",
       "<table border=\"1\" class=\"dataframe\">\n",
       "  <thead>\n",
       "    <tr style=\"text-align: right;\">\n",
       "      <th></th>\n",
       "      <th>product_id</th>\n",
       "    </tr>\n",
       "  </thead>\n",
       "  <tbody>\n",
       "    <tr>\n",
       "      <th>3933</th>\n",
       "      <td>9101</td>\n",
       "    </tr>\n",
       "    <tr>\n",
       "      <th>3934</th>\n",
       "      <td>16442</td>\n",
       "    </tr>\n",
       "    <tr>\n",
       "      <th>3935</th>\n",
       "      <td>23892</td>\n",
       "    </tr>\n",
       "    <tr>\n",
       "      <th>3936</th>\n",
       "      <td>23893</td>\n",
       "    </tr>\n",
       "    <tr>\n",
       "      <th>3937</th>\n",
       "      <td>27830</td>\n",
       "    </tr>\n",
       "    <tr>\n",
       "      <th>...</th>\n",
       "      <td>...</td>\n",
       "    </tr>\n",
       "    <tr>\n",
       "      <th>5565</th>\n",
       "      <td>99444</td>\n",
       "    </tr>\n",
       "    <tr>\n",
       "      <th>5566</th>\n",
       "      <td>99445</td>\n",
       "    </tr>\n",
       "    <tr>\n",
       "      <th>5567</th>\n",
       "      <td>99446</td>\n",
       "    </tr>\n",
       "    <tr>\n",
       "      <th>5568</th>\n",
       "      <td>99447</td>\n",
       "    </tr>\n",
       "    <tr>\n",
       "      <th>5569</th>\n",
       "      <td>99448</td>\n",
       "    </tr>\n",
       "  </tbody>\n",
       "</table>\n",
       "<p>1340 rows × 1 columns</p>\n",
       "</div>"
      ],
      "text/plain": [
       "      product_id\n",
       "3933        9101\n",
       "3934       16442\n",
       "3935       23892\n",
       "3936       23893\n",
       "3937       27830\n",
       "...          ...\n",
       "5565       99444\n",
       "5566       99445\n",
       "5567       99446\n",
       "5568       99447\n",
       "5569       99448\n",
       "\n",
       "[1340 rows x 1 columns]"
      ]
     },
     "execution_count": 71,
     "metadata": {},
     "output_type": "execute_result"
    }
   ],
   "source": [
    "filtered_ids= df[['product_id']][(df.parent_category==cat_dict[x[0]]) & (df.frame_shape==shap_dict[x[1]])]\n",
    "i=0\n",
    "for t in filtered_ids['product_id']:\n",
    "    if t == 7641:\n",
    "        filtered_ids.drop(i,inplace=True)\n",
    "    i=i+1\n",
    "filtered_ids"
   ]
  },
  {
   "cell_type": "code",
   "execution_count": 72,
   "metadata": {},
   "outputs": [],
   "source": [
    "from sklearn.metrics.pairwise import cosine_similarity"
   ]
  },
  {
   "cell_type": "code",
   "execution_count": 73,
   "metadata": {},
   "outputs": [
    {
     "data": {
      "text/html": [
       "<div>\n",
       "<style scoped>\n",
       "    .dataframe tbody tr th:only-of-type {\n",
       "        vertical-align: middle;\n",
       "    }\n",
       "\n",
       "    .dataframe tbody tr th {\n",
       "        vertical-align: top;\n",
       "    }\n",
       "\n",
       "    .dataframe thead th {\n",
       "        text-align: right;\n",
       "    }\n",
       "</style>\n",
       "<table border=\"1\" class=\"dataframe\">\n",
       "  <thead>\n",
       "    <tr style=\"text-align: right;\">\n",
       "      <th></th>\n",
       "      <th>product_id</th>\n",
       "      <th>score</th>\n",
       "    </tr>\n",
       "  </thead>\n",
       "  <tbody>\n",
       "    <tr>\n",
       "      <th>0</th>\n",
       "      <td>9101.0</td>\n",
       "      <td>[[0.98825395]]</td>\n",
       "    </tr>\n",
       "    <tr>\n",
       "      <th>0</th>\n",
       "      <td>16442.0</td>\n",
       "      <td>[[0.9963547]]</td>\n",
       "    </tr>\n",
       "    <tr>\n",
       "      <th>0</th>\n",
       "      <td>23892.0</td>\n",
       "      <td>[[0.9952655]]</td>\n",
       "    </tr>\n",
       "    <tr>\n",
       "      <th>0</th>\n",
       "      <td>23893.0</td>\n",
       "      <td>[[0.99645793]]</td>\n",
       "    </tr>\n",
       "    <tr>\n",
       "      <th>0</th>\n",
       "      <td>27830.0</td>\n",
       "      <td>[[0.9987009]]</td>\n",
       "    </tr>\n",
       "    <tr>\n",
       "      <th>...</th>\n",
       "      <td>...</td>\n",
       "      <td>...</td>\n",
       "    </tr>\n",
       "    <tr>\n",
       "      <th>0</th>\n",
       "      <td>99444.0</td>\n",
       "      <td>[[0.9574699]]</td>\n",
       "    </tr>\n",
       "    <tr>\n",
       "      <th>0</th>\n",
       "      <td>99445.0</td>\n",
       "      <td>[[0.97058874]]</td>\n",
       "    </tr>\n",
       "    <tr>\n",
       "      <th>0</th>\n",
       "      <td>99446.0</td>\n",
       "      <td>[[0.98264736]]</td>\n",
       "    </tr>\n",
       "    <tr>\n",
       "      <th>0</th>\n",
       "      <td>99447.0</td>\n",
       "      <td>[[0.9711684]]</td>\n",
       "    </tr>\n",
       "    <tr>\n",
       "      <th>0</th>\n",
       "      <td>99448.0</td>\n",
       "      <td>[[0.9693148]]</td>\n",
       "    </tr>\n",
       "  </tbody>\n",
       "</table>\n",
       "<p>1340 rows × 2 columns</p>\n",
       "</div>"
      ],
      "text/plain": [
       "    product_id           score\n",
       "0       9101.0  [[0.98825395]]\n",
       "0      16442.0   [[0.9963547]]\n",
       "0      23892.0   [[0.9952655]]\n",
       "0      23893.0  [[0.99645793]]\n",
       "0      27830.0   [[0.9987009]]\n",
       "..         ...             ...\n",
       "0      99444.0   [[0.9574699]]\n",
       "0      99445.0  [[0.97058874]]\n",
       "0      99446.0  [[0.98264736]]\n",
       "0      99447.0   [[0.9711684]]\n",
       "0      99448.0   [[0.9693148]]\n",
       "\n",
       "[1340 rows x 2 columns]"
      ]
     },
     "execution_count": 73,
     "metadata": {},
     "output_type": "execute_result"
    }
   ],
   "source": [
    "df_cos= pd.DataFrame({'product_id':[], 'score':[]})\n",
    "for key in filtered_ids['product_id']:\n",
    "    score= cosine_similarity(np.array([feat_upld]),np.array([feature_dict[key]]))\n",
    "    #print(score)\n",
    "    df_temp = pd.DataFrame({'product_id':[key], 'score':[score[[0]]]})\n",
    "    #print(df_temp)\n",
    "    df_cos=pd.concat((df_cos,df_temp),axis=0)\n",
    "df_cos"
   ]
  },
  {
   "cell_type": "code",
   "execution_count": 74,
   "metadata": {},
   "outputs": [
    {
     "data": {
      "text/plain": [
       "(25088,)"
      ]
     },
     "execution_count": 74,
     "metadata": {},
     "output_type": "execute_result"
    }
   ],
   "source": [
    "feat_upld.shape"
   ]
  },
  {
   "cell_type": "code",
   "execution_count": 75,
   "metadata": {},
   "outputs": [],
   "source": [
    "df_cos=df_cos.reset_index()\n",
    "df_cos.drop(['index'],axis=1,inplace=True)"
   ]
  },
  {
   "cell_type": "code",
   "execution_count": 76,
   "metadata": {},
   "outputs": [
    {
     "data": {
      "text/html": [
       "<div>\n",
       "<style scoped>\n",
       "    .dataframe tbody tr th:only-of-type {\n",
       "        vertical-align: middle;\n",
       "    }\n",
       "\n",
       "    .dataframe tbody tr th {\n",
       "        vertical-align: top;\n",
       "    }\n",
       "\n",
       "    .dataframe thead th {\n",
       "        text-align: right;\n",
       "    }\n",
       "</style>\n",
       "<table border=\"1\" class=\"dataframe\">\n",
       "  <thead>\n",
       "    <tr style=\"text-align: right;\">\n",
       "      <th></th>\n",
       "      <th>product_id</th>\n",
       "      <th>score</th>\n",
       "    </tr>\n",
       "  </thead>\n",
       "  <tbody>\n",
       "    <tr>\n",
       "      <th>416</th>\n",
       "      <td>92552</td>\n",
       "      <td>[[0.9999892]]</td>\n",
       "    </tr>\n",
       "    <tr>\n",
       "      <th>415</th>\n",
       "      <td>92550</td>\n",
       "      <td>[[0.9999108]]</td>\n",
       "    </tr>\n",
       "    <tr>\n",
       "      <th>414</th>\n",
       "      <td>92548</td>\n",
       "      <td>[[0.99987894]]</td>\n",
       "    </tr>\n",
       "    <tr>\n",
       "      <th>670</th>\n",
       "      <td>94082</td>\n",
       "      <td>[[0.9998048]]</td>\n",
       "    </tr>\n",
       "    <tr>\n",
       "      <th>420</th>\n",
       "      <td>92597</td>\n",
       "      <td>[[0.99979115]]</td>\n",
       "    </tr>\n",
       "    <tr>\n",
       "      <th>166</th>\n",
       "      <td>81860</td>\n",
       "      <td>[[0.99975014]]</td>\n",
       "    </tr>\n",
       "    <tr>\n",
       "      <th>417</th>\n",
       "      <td>92563</td>\n",
       "      <td>[[0.99974155]]</td>\n",
       "    </tr>\n",
       "    <tr>\n",
       "      <th>429</th>\n",
       "      <td>92740</td>\n",
       "      <td>[[0.9997407]]</td>\n",
       "    </tr>\n",
       "    <tr>\n",
       "      <th>196</th>\n",
       "      <td>83444</td>\n",
       "      <td>[[0.9997229]]</td>\n",
       "    </tr>\n",
       "    <tr>\n",
       "      <th>1206</th>\n",
       "      <td>98218</td>\n",
       "      <td>[[0.99970794]]</td>\n",
       "    </tr>\n",
       "    <tr>\n",
       "      <th>780</th>\n",
       "      <td>94705</td>\n",
       "      <td>[[0.999707]]</td>\n",
       "    </tr>\n",
       "  </tbody>\n",
       "</table>\n",
       "</div>"
      ],
      "text/plain": [
       "      product_id           score\n",
       "416        92552   [[0.9999892]]\n",
       "415        92550   [[0.9999108]]\n",
       "414        92548  [[0.99987894]]\n",
       "670        94082   [[0.9998048]]\n",
       "420        92597  [[0.99979115]]\n",
       "166        81860  [[0.99975014]]\n",
       "417        92563  [[0.99974155]]\n",
       "429        92740   [[0.9997407]]\n",
       "196        83444   [[0.9997229]]\n",
       "1206       98218  [[0.99970794]]\n",
       "780        94705    [[0.999707]]"
      ]
     },
     "execution_count": 76,
     "metadata": {},
     "output_type": "execute_result"
    }
   ],
   "source": [
    "df_cos_sim=df_cos.sort_values(by=['score'],ascending=False).iloc[:11,:]\n",
    "df_cos_sim['product_id']=df_cos_sim['product_id'].astype(int)\n",
    "df_cos_sim"
   ]
  },
  {
   "cell_type": "code",
   "execution_count": 77,
   "metadata": {
    "scrolled": true
   },
   "outputs": [
    {
     "data": {
      "text/html": [
       "<div>\n",
       "<style scoped>\n",
       "    .dataframe tbody tr th:only-of-type {\n",
       "        vertical-align: middle;\n",
       "    }\n",
       "\n",
       "    .dataframe tbody tr th {\n",
       "        vertical-align: top;\n",
       "    }\n",
       "\n",
       "    .dataframe thead th {\n",
       "        text-align: right;\n",
       "    }\n",
       "</style>\n",
       "<table border=\"1\" class=\"dataframe\">\n",
       "  <thead>\n",
       "    <tr style=\"text-align: right;\">\n",
       "      <th></th>\n",
       "      <th>product_id</th>\n",
       "      <th>score</th>\n",
       "      <th>Image_Front</th>\n",
       "    </tr>\n",
       "  </thead>\n",
       "  <tbody>\n",
       "    <tr>\n",
       "      <th>0</th>\n",
       "      <td>92552</td>\n",
       "      <td>[[0.9999892]]</td>\n",
       "      <td>http://d3b4di70nev5h5.cloudfront.net/media/cat...</td>\n",
       "    </tr>\n",
       "    <tr>\n",
       "      <th>1</th>\n",
       "      <td>92550</td>\n",
       "      <td>[[0.9999108]]</td>\n",
       "      <td>http://d3b4di70nev5h5.cloudfront.net/media/cat...</td>\n",
       "    </tr>\n",
       "    <tr>\n",
       "      <th>2</th>\n",
       "      <td>92548</td>\n",
       "      <td>[[0.99987894]]</td>\n",
       "      <td>http://d3b4di70nev5h5.cloudfront.net/media/cat...</td>\n",
       "    </tr>\n",
       "    <tr>\n",
       "      <th>3</th>\n",
       "      <td>94082</td>\n",
       "      <td>[[0.9998048]]</td>\n",
       "      <td>http://d3b4di70nev5h5.cloudfront.net/media/cat...</td>\n",
       "    </tr>\n",
       "    <tr>\n",
       "      <th>4</th>\n",
       "      <td>92597</td>\n",
       "      <td>[[0.99979115]]</td>\n",
       "      <td>http://d3b4di70nev5h5.cloudfront.net/media/cat...</td>\n",
       "    </tr>\n",
       "    <tr>\n",
       "      <th>5</th>\n",
       "      <td>81860</td>\n",
       "      <td>[[0.99975014]]</td>\n",
       "      <td>http://d3b4di70nev5h5.cloudfront.net/media/cat...</td>\n",
       "    </tr>\n",
       "    <tr>\n",
       "      <th>6</th>\n",
       "      <td>92563</td>\n",
       "      <td>[[0.99974155]]</td>\n",
       "      <td>http://d3b4di70nev5h5.cloudfront.net/media/cat...</td>\n",
       "    </tr>\n",
       "    <tr>\n",
       "      <th>7</th>\n",
       "      <td>92740</td>\n",
       "      <td>[[0.9997407]]</td>\n",
       "      <td>http://d3b4di70nev5h5.cloudfront.net/media/cat...</td>\n",
       "    </tr>\n",
       "    <tr>\n",
       "      <th>8</th>\n",
       "      <td>83444</td>\n",
       "      <td>[[0.9997229]]</td>\n",
       "      <td>http://d3b4di70nev5h5.cloudfront.net/media/cat...</td>\n",
       "    </tr>\n",
       "    <tr>\n",
       "      <th>9</th>\n",
       "      <td>98218</td>\n",
       "      <td>[[0.99970794]]</td>\n",
       "      <td>http://d3b4di70nev5h5.cloudfront.net/media/cat...</td>\n",
       "    </tr>\n",
       "    <tr>\n",
       "      <th>10</th>\n",
       "      <td>94705</td>\n",
       "      <td>[[0.999707]]</td>\n",
       "      <td>http://d3b4di70nev5h5.cloudfront.net/media/cat...</td>\n",
       "    </tr>\n",
       "  </tbody>\n",
       "</table>\n",
       "</div>"
      ],
      "text/plain": [
       "    product_id           score  \\\n",
       "0        92552   [[0.9999892]]   \n",
       "1        92550   [[0.9999108]]   \n",
       "2        92548  [[0.99987894]]   \n",
       "3        94082   [[0.9998048]]   \n",
       "4        92597  [[0.99979115]]   \n",
       "5        81860  [[0.99975014]]   \n",
       "6        92563  [[0.99974155]]   \n",
       "7        92740   [[0.9997407]]   \n",
       "8        83444   [[0.9997229]]   \n",
       "9        98218  [[0.99970794]]   \n",
       "10       94705    [[0.999707]]   \n",
       "\n",
       "                                          Image_Front  \n",
       "0   http://d3b4di70nev5h5.cloudfront.net/media/cat...  \n",
       "1   http://d3b4di70nev5h5.cloudfront.net/media/cat...  \n",
       "2   http://d3b4di70nev5h5.cloudfront.net/media/cat...  \n",
       "3   http://d3b4di70nev5h5.cloudfront.net/media/cat...  \n",
       "4   http://d3b4di70nev5h5.cloudfront.net/media/cat...  \n",
       "5   http://d3b4di70nev5h5.cloudfront.net/media/cat...  \n",
       "6   http://d3b4di70nev5h5.cloudfront.net/media/cat...  \n",
       "7   http://d3b4di70nev5h5.cloudfront.net/media/cat...  \n",
       "8   http://d3b4di70nev5h5.cloudfront.net/media/cat...  \n",
       "9   http://d3b4di70nev5h5.cloudfront.net/media/cat...  \n",
       "10  http://d3b4di70nev5h5.cloudfront.net/media/cat...  "
      ]
     },
     "execution_count": 77,
     "metadata": {},
     "output_type": "execute_result"
    }
   ],
   "source": [
    "df_cos_sim=pd.merge(df_cos_sim,df1,on='product_id',how='inner')\n",
    "df_cos_sim"
   ]
  },
  {
   "cell_type": "code",
   "execution_count": 78,
   "metadata": {},
   "outputs": [
    {
     "name": "stdout",
     "output_type": "stream",
     "text": [
      "Top 10 Similar Images are: \n"
     ]
    }
   ],
   "source": [
    "print(\"Top 10 Similar Images are: \")\n",
    "\n",
    "#for image in df_cos_sim['Image_Front']:\n",
    "        ##url= image\n",
    "        #res = request.urlopen(url).read()\n",
    "        #img = Image.open(BytesIO(res)).resize((224,224))\n",
    "        #img\n",
    "        \n",
    "        #img_to_array(img).shape\n",
    "    #print(img)\n",
    "    #except request.HTTPError:\n",
    "        #pass\n",
    "        #img= np.array(img)\n",
    "        #img= np.expand_dims(x, axis=0)\n",
    "        #return img\n"
   ]
  },
  {
   "cell_type": "code",
   "execution_count": 79,
   "metadata": {},
   "outputs": [
    {
     "data": {
      "image/png": "[encoded data removed]",
      "text/plain": [
       "<PIL.Image.Image image mode=RGB size=224x224 at 0x1B946B4B6C8>"
      ]
     },
     "execution_count": 79,
     "metadata": {},
     "output_type": "execute_result"
    }
   ],
   "source": [
    "url= df_cos_sim['Image_Front'][1]\n",
    "res = request.urlopen(url).read()\n",
    "img = Image.open(BytesIO(res)).resize((224,224))\n",
    "#img_to_array(img).shape\n",
    "img"
   ]
  },
  {
   "cell_type": "code",
   "execution_count": 80,
   "metadata": {},
   "outputs": [
    {
     "data": {
      "image/png": "[encoded data removed]",
      "text/plain": [
       "<PIL.Image.Image image mode=RGB size=224x224 at 0x1B946B22188>"
      ]
     },
     "execution_count": 80,
     "metadata": {},
     "output_type": "execute_result"
    }
   ],
   "source": [
    "url= df_cos_sim['Image_Front'][2]\n",
    "res = request.urlopen(url).read()\n",
    "img = Image.open(BytesIO(res)).resize((224,224))\n",
    "#img_to_array(img).shape\n",
    "img"
   ]
  },
  {
   "cell_type": "code",
   "execution_count": 81,
   "metadata": {},
   "outputs": [
    {
     "data": {
      "image/png": "[encoded data removed]",
      "text/plain": [
       "<PIL.Image.Image image mode=RGB size=224x224 at 0x1B946B695C8>"
      ]
     },
     "execution_count": 81,
     "metadata": {},
     "output_type": "execute_result"
    }
   ],
   "source": [
    "url= df_cos_sim['Image_Front'][3]\n",
    "res = request.urlopen(url).read()\n",
    "img = Image.open(BytesIO(res)).resize((224,224))\n",
    "#img_to_array(img).shape\n",
    "img"
   ]
  },
  {
   "cell_type": "code",
   "execution_count": 82,
   "metadata": {},
   "outputs": [
    {
     "data": {
      "image/png": "[encoded data removed]",
      "text/plain": [
       "<PIL.Image.Image image mode=RGB size=224x224 at 0x1B946B69D08>"
      ]
     },
     "execution_count": 82,
     "metadata": {},
     "output_type": "execute_result"
    }
   ],
   "source": [
    "url= df_cos_sim['Image_Front'][4]\n",
    "res = request.urlopen(url).read()\n",
    "img = Image.open(BytesIO(res)).resize((224,224))\n",
    "#img_to_array(img).shape\n",
    "img"
   ]
  },
  {
   "cell_type": "code",
   "execution_count": 83,
   "metadata": {},
   "outputs": [
    {
     "data": {
      "image/png": "[encoded data removed]",
      "text/plain": [
       "<PIL.Image.Image image mode=RGB size=224x224 at 0x1B946B7CE08>"
      ]
     },
     "execution_count": 83,
     "metadata": {},
     "output_type": "execute_result"
    }
   ],
   "source": [
    "url= df_cos_sim['Image_Front'][5]\n",
    "res = request.urlopen(url).read()\n",
    "img = Image.open(BytesIO(res)).resize((224,224))\n",
    "#img_to_array(img).shape\n",
    "img"
   ]
  },
  {
   "cell_type": "code",
   "execution_count": 84,
   "metadata": {},
   "outputs": [
    {
     "data": {
      "image/png": "[encoded data removed]",
      "text/plain": [
       "<PIL.Image.Image image mode=RGB size=224x224 at 0x1B946B7DCC8>"
      ]
     },
     "execution_count": 84,
     "metadata": {},
     "output_type": "execute_result"
    }
   ],
   "source": [
    "url= df_cos_sim['Image_Front'][6]\n",
    "res = request.urlopen(url).read()\n",
    "img = Image.open(BytesIO(res)).resize((224,224))\n",
    "#img_to_array(img).shape\n",
    "img"
   ]
  },
  {
   "cell_type": "code",
   "execution_count": 85,
   "metadata": {},
   "outputs": [
    {
     "data": {
      "image/png": "[encoded data removed]",
      "text/plain": [
       "<PIL.Image.Image image mode=RGB size=224x224 at 0x1B946B7D5C8>"
      ]
     },
     "execution_count": 85,
     "metadata": {},
     "output_type": "execute_result"
    }
   ],
   "source": [
    "url= df_cos_sim['Image_Front'][7]\n",
    "res = request.urlopen(url).read()\n",
    "img = Image.open(BytesIO(res)).resize((224,224))\n",
    "#img_to_array(img).shape\n",
    "img"
   ]
  },
  {
   "cell_type": "code",
   "execution_count": 86,
   "metadata": {},
   "outputs": [
    {
     "data": {
      "image/png": "[encoded data removed]",
      "text/plain": [
       "<PIL.Image.Image image mode=RGB size=224x224 at 0x1B946B7CF88>"
      ]
     },
     "execution_count": 86,
     "metadata": {},
     "output_type": "execute_result"
    }
   ],
   "source": [
    "url= df_cos_sim['Image_Front'][8]\n",
    "res = request.urlopen(url).read()\n",
    "img = Image.open(BytesIO(res)).resize((224,224))\n",
    "#img_to_array(img).shape\n",
    "img"
   ]
  },
  {
   "cell_type": "code",
   "execution_count": 87,
   "metadata": {},
   "outputs": [
    {
     "data": {
      "image/png": "[encoded data removed]",
      "text/plain": [
       "<PIL.Image.Image image mode=RGB size=224x224 at 0x1B76EAD7CC8>"
      ]
     },
     "execution_count": 87,
     "metadata": {},
     "output_type": "execute_result"
    }
   ],
   "source": [
    "url= df_cos_sim['Image_Front'][9]\n",
    "res = request.urlopen(url).read()\n",
    "img = Image.open(BytesIO(res)).resize((224,224))\n",
    "#img_to_array(img).shape\n",
    "img"
   ]
  },
  {
   "cell_type": "code",
   "execution_count": 88,
   "metadata": {},
   "outputs": [
    {
     "data": {
      "image/png": "[encoded data removed]",
      "text/plain": [
       "<PIL.Image.Image image mode=RGB size=224x224 at 0x1B946B49308>"
      ]
     },
     "execution_count": 88,
     "metadata": {},
     "output_type": "execute_result"
    }
   ],
   "source": [
    "url= df_cos_sim['Image_Front'][10]\n",
    "res = request.urlopen(url).read()\n",
    "img = Image.open(BytesIO(res)).resize((224,224))\n",
    "#img_to_array(img).shape\n",
    "img"
   ]
  },
  {
   "cell_type": "code",
   "execution_count": 89,
   "metadata": {},
   "outputs": [],
   "source": [
    "#API"
   ]
  },
  {
   "cell_type": "code",
   "execution_count": 90,
   "metadata": {},
   "outputs": [],
   "source": [
    "from tensorflow.keras.preprocessing.image import img_to_array\n",
    "from tensorflow.keras.applications import imagenet_utils\n",
    "from PIL import Image\n",
    "import numpy as np\n",
    "import flask\n",
    "import io\n",
    "from flask import Flask, jsonify, request\n",
    "\n",
    "# initialize our Flask application and the Keras model\n",
    "app = flask.Flask(__name__)\n"
   ]
  },
  {
   "cell_type": "code",
   "execution_count": null,
   "metadata": {},
   "outputs": [
    {
     "name": "stdout",
     "output_type": "stream",
     "text": [
      "* Loading Keras model and Flask starting server...please wait until server has fully started\n",
      " * Serving Flask app \"__main__\" (lazy loading)\n",
      " * Environment: production\n",
      "   WARNING: This is a development server. Do not use it in a production deployment.\n",
      "   Use a production WSGI server instead.\n",
      " * Debug mode: off\n"
     ]
    },
    {
     "name": "stderr",
     "output_type": "stream",
     "text": [
      " * Running on http://127.0.0.1:5000/ (Press CTRL+C to quit)\n",
      "127.0.0.1 - - [07/May/2021 17:42:38] \"\u001b[37mPOST /predict HTTP/1.1\u001b[0m\" 200 -\n",
      "127.0.0.1 - - [07/May/2021 17:42:39] \"\u001b[33mGET /favicon.ico HTTP/1.1\u001b[0m\" 404 -\n"
     ]
    }
   ],
   "source": [
    "@app.route(\"/predict\", methods=[\"POST\"], endpoint='predict')\n",
    "def predict():\n",
    "    # initialize the data dictionary that will be returned from the\n",
    "    # view\n",
    "    #data = {\"success\": False}\n",
    "    data={}\n",
    "    if flask.request.method == \"POST\":\n",
    "        #data['success']= '1'\n",
    "        if flask.request.files.get(\"image\"):\n",
    "            #data['success']= '2'\n",
    "            # read the image in PIL format\n",
    "            image = flask.request.files[\"image\"].read()\n",
    "            image = Image.open(io.BytesIO(image)).resize((224,224))\n",
    "            image= img_to_array(image)\n",
    "            image= image/255.0\n",
    "            #img = np.array(img)\n",
    "            image= np.expand_dims(image, axis=0)\n",
    "            feat_upld=modelv.predict(preprocess_input(image))\n",
    "            feat_upld=feat_upld.flatten()\n",
    "            index=loaded_model.predict(feat_upld.reshape(1,7,7,512))\n",
    "            #print(index)\n",
    "            x=[]\n",
    "            for i in index:\n",
    "                x.append(np.argmax(i))\n",
    "            filtered_ids= df[['product_id']][(df.parent_category==cat_dict[x[0]]) & (df.frame_shape==shap_dict[x[1]])]\n",
    "            i=0\n",
    "            for t in filtered_ids['product_id']:\n",
    "                if t == 7641:\n",
    "                    filtered_ids.drop(i,inplace=True)\n",
    "                i=i+1\n",
    "            #print (filtered_ids)\n",
    "            df_cos= pd.DataFrame({'product_id':[], 'score':[]})\n",
    "            for key in filtered_ids['product_id']:\n",
    "                score= cosine_similarity(np.array([feat_upld]),np.array([feature_dict[key]]))\n",
    "                #print(score)\n",
    "                df_temp = pd.DataFrame({'product_id':[key], 'score':[score[[0]]]})\n",
    "                #print(df_temp)\n",
    "                df_cos=pd.concat((df_cos,df_temp),axis=0)\n",
    "            df_cos=df_cos.reset_index()\n",
    "            df_cos.drop(['index'],axis=1,inplace=True)\n",
    "            df_cos_sim=df_cos.sort_values(by=['score'],ascending=False).iloc[:11,:]\n",
    "            df_cos_sim['product_id']=df_cos_sim['product_id'].astype(int)\n",
    "            df_cos_sim=pd.merge(df_cos_sim,df1,on='product_id',how='inner')\n",
    "            \n",
    "            for id in df_cos_sim['product_id'][1:]:\n",
    "                data[id] = df_cos_sim['Image_Front'][df_cos_sim.product_id==id].values[0]\n",
    "                \n",
    "\n",
    "            # indicate that the request was a success\n",
    "            #data[\"success\"] = True\n",
    "            html = \"<p><h4> Parent Category:  </h4>\"+ cat_dict[x[0]]+ \"<br><h4> Frame Shape: </h4>\"+ shap_dict[x[1]] +\"<br><h4> The Top 10 most similar images are : </h4> </p>\"\n",
    "            html += \"\"\" <div class=\"row\">\\n\\t\"\"\"\n",
    "            for id in data.keys():\n",
    "                html += \"\"\"<h2> </h2><br><h2>\n",
    "            \"\"\"\n",
    "                html +=  \"\"\"<div class=\"column\">\\n\\t\"\"\"\n",
    "                html += \"\"\"<img src= \n",
    "                \"\"\"\n",
    "                html += str(data[id])\n",
    "                html += \"\"\"\n",
    "                \" alt=\"Frame\" width=\"250\" height=\"150\">\\n\n",
    "                \"\"\"\n",
    "                html+=\"\"\"</div>\"\"\"\n",
    "            html+=\"\"\"</div>\"\"\"\n",
    "    # return the data dictionary as a JSON response\n",
    "    return html\n",
    "if __name__ == \"__main__\":\n",
    "    print((\"* Loading Keras model and Flask starting server...\"\n",
    "        \"please wait until server has fully started\"))\n",
    "    #load_model()\n",
    "    app.run()"
   ]
  },
  {
   "cell_type": "code",
   "execution_count": null,
   "metadata": {},
   "outputs": [],
   "source": []
  },
  {
   "cell_type": "code",
   "execution_count": null,
   "metadata": {},
   "outputs": [],
   "source": []
  },
  {
   "cell_type": "code",
   "execution_count": null,
   "metadata": {},
   "outputs": [],
   "source": []
  },
  {
   "cell_type": "code",
   "execution_count": null,
   "metadata": {},
   "outputs": [],
   "source": []
  },
  {
   "cell_type": "code",
   "execution_count": null,
   "metadata": {},
   "outputs": [],
   "source": []
  }
 ],
 "metadata": {
  "kernelspec": {
   "display_name": "Python 3",
   "language": "python",
   "name": "python3"
  },
  "language_info": {
   "codemirror_mode": {
    "name": "ipython",
    "version": 3
   },
   "file_extension": ".py",
   "mimetype": "text/x-python",
   "name": "python",
   "nbconvert_exporter": "python",
   "pygments_lexer": "ipython3",
   "version": "3.7.9"
  }
 },
 "nbformat": 4,
 "nbformat_minor": 4
}
